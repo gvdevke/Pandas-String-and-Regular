{
 "cells": [
  {
   "cell_type": "markdown",
   "id": "000168b5",
   "metadata": {},
   "source": [
    "# Pandas String and Regular Expression"
   ]
  },
  {
   "cell_type": "markdown",
   "id": "804f7979",
   "metadata": {},
   "source": [
    "## 1.Write a Pandas program to convert all the string values to upper, lower cases in a given pandas series. Also find the length of the string values."
   ]
  },
  {
   "cell_type": "code",
   "execution_count": 2,
   "id": "5dede38c",
   "metadata": {},
   "outputs": [],
   "source": [
    "import pandas as pd\n",
    "import numpy as np\n",
    "import matplotlib.pyplot as plt\n",
    "import seaborn as sns"
   ]
  },
  {
   "cell_type": "code",
   "execution_count": 3,
   "id": "cdbc95cd",
   "metadata": {},
   "outputs": [],
   "source": [
    "s = pd.Series(['X','Y','Z','Aaba','Baca',np.nan,'CABA',None, 'bird','horse','dog'])"
   ]
  },
  {
   "cell_type": "code",
   "execution_count": 4,
   "id": "f16a0cc4",
   "metadata": {},
   "outputs": [
    {
     "data": {
      "text/plain": [
       "0         X\n",
       "1         Y\n",
       "2         Z\n",
       "3      Aaba\n",
       "4      Baca\n",
       "5       NaN\n",
       "6      CABA\n",
       "7      None\n",
       "8      bird\n",
       "9     horse\n",
       "10      dog\n",
       "dtype: object"
      ]
     },
     "execution_count": 4,
     "metadata": {},
     "output_type": "execute_result"
    }
   ],
   "source": [
    "s"
   ]
  },
  {
   "cell_type": "code",
   "execution_count": 5,
   "id": "83bffcdc",
   "metadata": {},
   "outputs": [],
   "source": [
    "s_upper = s.str.upper()"
   ]
  },
  {
   "cell_type": "code",
   "execution_count": 6,
   "id": "63562dfa",
   "metadata": {},
   "outputs": [
    {
     "data": {
      "text/plain": [
       "0         X\n",
       "1         Y\n",
       "2         Z\n",
       "3      AABA\n",
       "4      BACA\n",
       "5       NaN\n",
       "6      CABA\n",
       "7      None\n",
       "8      BIRD\n",
       "9     HORSE\n",
       "10      DOG\n",
       "dtype: object"
      ]
     },
     "execution_count": 6,
     "metadata": {},
     "output_type": "execute_result"
    }
   ],
   "source": [
    "s_upper"
   ]
  },
  {
   "cell_type": "code",
   "execution_count": 7,
   "id": "2bffe163",
   "metadata": {},
   "outputs": [],
   "source": [
    "s_lower = s.str.lower()"
   ]
  },
  {
   "cell_type": "code",
   "execution_count": 8,
   "id": "17e6fd89",
   "metadata": {},
   "outputs": [
    {
     "data": {
      "text/plain": [
       "0         x\n",
       "1         y\n",
       "2         z\n",
       "3      aaba\n",
       "4      baca\n",
       "5       NaN\n",
       "6      caba\n",
       "7      None\n",
       "8      bird\n",
       "9     horse\n",
       "10      dog\n",
       "dtype: object"
      ]
     },
     "execution_count": 8,
     "metadata": {},
     "output_type": "execute_result"
    }
   ],
   "source": [
    "s_lower"
   ]
  },
  {
   "cell_type": "code",
   "execution_count": 9,
   "id": "1c5a4f5f",
   "metadata": {},
   "outputs": [],
   "source": [
    "s_length = s.str.len()"
   ]
  },
  {
   "cell_type": "code",
   "execution_count": 10,
   "id": "d6adfbbd",
   "metadata": {},
   "outputs": [
    {
     "data": {
      "text/plain": [
       "0     1.0\n",
       "1     1.0\n",
       "2     1.0\n",
       "3     4.0\n",
       "4     4.0\n",
       "5     NaN\n",
       "6     4.0\n",
       "7     NaN\n",
       "8     4.0\n",
       "9     5.0\n",
       "10    3.0\n",
       "dtype: float64"
      ]
     },
     "execution_count": 10,
     "metadata": {},
     "output_type": "execute_result"
    }
   ],
   "source": [
    "s_length"
   ]
  },
  {
   "cell_type": "markdown",
   "id": "57372cd8",
   "metadata": {},
   "source": [
    "## 2.Write a Pandas program to remove whitespaces, left sided whitespaces and right spaces sided spaces of the string values of a given pandas series."
   ]
  },
  {
   "cell_type": "code",
   "execution_count": 11,
   "id": "7c9ce769",
   "metadata": {},
   "outputs": [],
   "source": [
    "color = pd.Series([' Green','Black',' Red','White',' Pink '])"
   ]
  },
  {
   "cell_type": "code",
   "execution_count": 12,
   "id": "80e47ffc",
   "metadata": {},
   "outputs": [
    {
     "data": {
      "text/plain": [
       "0     Green\n",
       "1     Black\n",
       "2       Red\n",
       "3     White\n",
       "4     Pink \n",
       "dtype: object"
      ]
     },
     "execution_count": 12,
     "metadata": {},
     "output_type": "execute_result"
    }
   ],
   "source": [
    "color"
   ]
  },
  {
   "cell_type": "code",
   "execution_count": 13,
   "id": "9f47e6dd",
   "metadata": {},
   "outputs": [],
   "source": [
    "color_whitespaces = color.str.strip()"
   ]
  },
  {
   "cell_type": "code",
   "execution_count": 14,
   "id": "481c40d9",
   "metadata": {},
   "outputs": [
    {
     "data": {
      "text/plain": [
       "0    Green\n",
       "1    Black\n",
       "2      Red\n",
       "3    White\n",
       "4     Pink\n",
       "dtype: object"
      ]
     },
     "execution_count": 14,
     "metadata": {},
     "output_type": "execute_result"
    }
   ],
   "source": [
    "color_whitespaces"
   ]
  },
  {
   "cell_type": "code",
   "execution_count": 15,
   "id": "31286086",
   "metadata": {},
   "outputs": [],
   "source": [
    "color_left_white = color.str.lstrip()"
   ]
  },
  {
   "cell_type": "code",
   "execution_count": 16,
   "id": "fad43ac1",
   "metadata": {},
   "outputs": [
    {
     "data": {
      "text/plain": [
       "0    Green\n",
       "1    Black\n",
       "2      Red\n",
       "3    White\n",
       "4    Pink \n",
       "dtype: object"
      ]
     },
     "execution_count": 16,
     "metadata": {},
     "output_type": "execute_result"
    }
   ],
   "source": [
    "color_left_white"
   ]
  },
  {
   "cell_type": "code",
   "execution_count": 17,
   "id": "01c11159",
   "metadata": {},
   "outputs": [],
   "source": [
    "color_right_white = color.str.rstrip()"
   ]
  },
  {
   "cell_type": "code",
   "execution_count": 18,
   "id": "c112c4f8",
   "metadata": {},
   "outputs": [
    {
     "data": {
      "text/plain": [
       "0     Green\n",
       "1     Black\n",
       "2       Red\n",
       "3     White\n",
       "4      Pink\n",
       "dtype: object"
      ]
     },
     "execution_count": 18,
     "metadata": {},
     "output_type": "execute_result"
    }
   ],
   "source": [
    "color_right_white"
   ]
  },
  {
   "cell_type": "code",
   "execution_count": 19,
   "id": "acebd3e4",
   "metadata": {},
   "outputs": [
    {
     "name": "stdout",
     "output_type": "stream",
     "text": [
      "0    Green\n",
      "1    Black\n",
      "2      Red\n",
      "3    White\n",
      "4     Pink\n",
      "dtype: object\n"
     ]
    }
   ],
   "source": [
    "print(color.str.strip())"
   ]
  },
  {
   "cell_type": "code",
   "execution_count": 20,
   "id": "e39c7464",
   "metadata": {},
   "outputs": [
    {
     "name": "stdout",
     "output_type": "stream",
     "text": [
      "0    Green\n",
      "1    Black\n",
      "2      Red\n",
      "3    White\n",
      "4    Pink \n",
      "dtype: object\n"
     ]
    }
   ],
   "source": [
    "print(color.str.lstrip())"
   ]
  },
  {
   "cell_type": "code",
   "execution_count": 21,
   "id": "e5bafb6d",
   "metadata": {},
   "outputs": [
    {
     "name": "stdout",
     "output_type": "stream",
     "text": [
      "0     Green\n",
      "1     Black\n",
      "2       Red\n",
      "3     White\n",
      "4      Pink\n",
      "dtype: object\n"
     ]
    }
   ],
   "source": [
    "print(color.str.rstrip())"
   ]
  },
  {
   "cell_type": "markdown",
   "id": "f9188d7b",
   "metadata": {},
   "source": [
    "## 3.Write a Pandas program to add leading zeros to the integer column in a pandas series and makes the length of the field to 8 digit."
   ]
  },
  {
   "cell_type": "code",
   "execution_count": 22,
   "id": "9031a78c",
   "metadata": {},
   "outputs": [],
   "source": [
    "nums = {'amount':[10,250,3000,40000,500000]}"
   ]
  },
  {
   "cell_type": "code",
   "execution_count": 23,
   "id": "e359c5d5",
   "metadata": {},
   "outputs": [
    {
     "data": {
      "text/plain": [
       "{'amount': [10, 250, 3000, 40000, 500000]}"
      ]
     },
     "execution_count": 23,
     "metadata": {},
     "output_type": "execute_result"
    }
   ],
   "source": [
    "nums"
   ]
  },
  {
   "cell_type": "code",
   "execution_count": 24,
   "id": "0fc35c73",
   "metadata": {},
   "outputs": [],
   "source": [
    "df = pd.DataFrame(nums)"
   ]
  },
  {
   "cell_type": "code",
   "execution_count": 25,
   "id": "c0fe9cfa",
   "metadata": {},
   "outputs": [
    {
     "data": {
      "text/html": [
       "<div>\n",
       "<style scoped>\n",
       "    .dataframe tbody tr th:only-of-type {\n",
       "        vertical-align: middle;\n",
       "    }\n",
       "\n",
       "    .dataframe tbody tr th {\n",
       "        vertical-align: top;\n",
       "    }\n",
       "\n",
       "    .dataframe thead th {\n",
       "        text-align: right;\n",
       "    }\n",
       "</style>\n",
       "<table border=\"1\" class=\"dataframe\">\n",
       "  <thead>\n",
       "    <tr style=\"text-align: right;\">\n",
       "      <th></th>\n",
       "      <th>amount</th>\n",
       "    </tr>\n",
       "  </thead>\n",
       "  <tbody>\n",
       "    <tr>\n",
       "      <th>0</th>\n",
       "      <td>10</td>\n",
       "    </tr>\n",
       "    <tr>\n",
       "      <th>1</th>\n",
       "      <td>250</td>\n",
       "    </tr>\n",
       "    <tr>\n",
       "      <th>2</th>\n",
       "      <td>3000</td>\n",
       "    </tr>\n",
       "    <tr>\n",
       "      <th>3</th>\n",
       "      <td>40000</td>\n",
       "    </tr>\n",
       "    <tr>\n",
       "      <th>4</th>\n",
       "      <td>500000</td>\n",
       "    </tr>\n",
       "  </tbody>\n",
       "</table>\n",
       "</div>"
      ],
      "text/plain": [
       "   amount\n",
       "0      10\n",
       "1     250\n",
       "2    3000\n",
       "3   40000\n",
       "4  500000"
      ]
     },
     "execution_count": 25,
     "metadata": {},
     "output_type": "execute_result"
    }
   ],
   "source": [
    "df"
   ]
  },
  {
   "cell_type": "code",
   "execution_count": 26,
   "id": "538bb39d",
   "metadata": {},
   "outputs": [],
   "source": [
    "df.amount = df['amount'].apply(lambda x: '{0:0>8}'.format(x))"
   ]
  },
  {
   "cell_type": "code",
   "execution_count": 27,
   "id": "2f41ebfa",
   "metadata": {},
   "outputs": [
    {
     "data": {
      "text/html": [
       "<div>\n",
       "<style scoped>\n",
       "    .dataframe tbody tr th:only-of-type {\n",
       "        vertical-align: middle;\n",
       "    }\n",
       "\n",
       "    .dataframe tbody tr th {\n",
       "        vertical-align: top;\n",
       "    }\n",
       "\n",
       "    .dataframe thead th {\n",
       "        text-align: right;\n",
       "    }\n",
       "</style>\n",
       "<table border=\"1\" class=\"dataframe\">\n",
       "  <thead>\n",
       "    <tr style=\"text-align: right;\">\n",
       "      <th></th>\n",
       "      <th>amount</th>\n",
       "    </tr>\n",
       "  </thead>\n",
       "  <tbody>\n",
       "    <tr>\n",
       "      <th>0</th>\n",
       "      <td>00000010</td>\n",
       "    </tr>\n",
       "    <tr>\n",
       "      <th>1</th>\n",
       "      <td>00000250</td>\n",
       "    </tr>\n",
       "    <tr>\n",
       "      <th>2</th>\n",
       "      <td>00003000</td>\n",
       "    </tr>\n",
       "    <tr>\n",
       "      <th>3</th>\n",
       "      <td>00040000</td>\n",
       "    </tr>\n",
       "    <tr>\n",
       "      <th>4</th>\n",
       "      <td>00500000</td>\n",
       "    </tr>\n",
       "  </tbody>\n",
       "</table>\n",
       "</div>"
      ],
      "text/plain": [
       "     amount\n",
       "0  00000010\n",
       "1  00000250\n",
       "2  00003000\n",
       "3  00040000\n",
       "4  00500000"
      ]
     },
     "execution_count": 27,
     "metadata": {},
     "output_type": "execute_result"
    }
   ],
   "source": [
    "df"
   ]
  },
  {
   "cell_type": "markdown",
   "id": "7317a846",
   "metadata": {},
   "source": [
    "## 4.Write a Pandas program to capitalize all the atring values of specified columns of a given DataFrame."
   ]
  },
  {
   "cell_type": "code",
   "execution_count": 28,
   "id": "acc2de3f",
   "metadata": {},
   "outputs": [],
   "source": [
    "df = pd.DataFrame({\"Name\":['alberto','gino','ryan','Eesha','syed'],\n",
    "                  'date_of_birth':['17/05/2002','16/02/1999','25/09/1998','11/05/2002','15/09/1997'],\n",
    "                  'age':[18.5,21.2,22.5,22,23]})"
   ]
  },
  {
   "cell_type": "code",
   "execution_count": 29,
   "id": "ee65cbbd",
   "metadata": {},
   "outputs": [
    {
     "data": {
      "text/html": [
       "<div>\n",
       "<style scoped>\n",
       "    .dataframe tbody tr th:only-of-type {\n",
       "        vertical-align: middle;\n",
       "    }\n",
       "\n",
       "    .dataframe tbody tr th {\n",
       "        vertical-align: top;\n",
       "    }\n",
       "\n",
       "    .dataframe thead th {\n",
       "        text-align: right;\n",
       "    }\n",
       "</style>\n",
       "<table border=\"1\" class=\"dataframe\">\n",
       "  <thead>\n",
       "    <tr style=\"text-align: right;\">\n",
       "      <th></th>\n",
       "      <th>Name</th>\n",
       "      <th>date_of_birth</th>\n",
       "      <th>age</th>\n",
       "    </tr>\n",
       "  </thead>\n",
       "  <tbody>\n",
       "    <tr>\n",
       "      <th>0</th>\n",
       "      <td>alberto</td>\n",
       "      <td>17/05/2002</td>\n",
       "      <td>18.5</td>\n",
       "    </tr>\n",
       "    <tr>\n",
       "      <th>1</th>\n",
       "      <td>gino</td>\n",
       "      <td>16/02/1999</td>\n",
       "      <td>21.2</td>\n",
       "    </tr>\n",
       "    <tr>\n",
       "      <th>2</th>\n",
       "      <td>ryan</td>\n",
       "      <td>25/09/1998</td>\n",
       "      <td>22.5</td>\n",
       "    </tr>\n",
       "    <tr>\n",
       "      <th>3</th>\n",
       "      <td>Eesha</td>\n",
       "      <td>11/05/2002</td>\n",
       "      <td>22.0</td>\n",
       "    </tr>\n",
       "    <tr>\n",
       "      <th>4</th>\n",
       "      <td>syed</td>\n",
       "      <td>15/09/1997</td>\n",
       "      <td>23.0</td>\n",
       "    </tr>\n",
       "  </tbody>\n",
       "</table>\n",
       "</div>"
      ],
      "text/plain": [
       "      Name date_of_birth   age\n",
       "0  alberto    17/05/2002  18.5\n",
       "1     gino    16/02/1999  21.2\n",
       "2     ryan    25/09/1998  22.5\n",
       "3    Eesha    11/05/2002  22.0\n",
       "4     syed    15/09/1997  23.0"
      ]
     },
     "execution_count": 29,
     "metadata": {},
     "output_type": "execute_result"
    }
   ],
   "source": [
    "df"
   ]
  },
  {
   "cell_type": "code",
   "execution_count": 30,
   "id": "d446c596",
   "metadata": {},
   "outputs": [],
   "source": [
    "df.Name = df.Name.str.capitalize()"
   ]
  },
  {
   "cell_type": "code",
   "execution_count": 31,
   "id": "00cafe89",
   "metadata": {},
   "outputs": [
    {
     "data": {
      "text/html": [
       "<div>\n",
       "<style scoped>\n",
       "    .dataframe tbody tr th:only-of-type {\n",
       "        vertical-align: middle;\n",
       "    }\n",
       "\n",
       "    .dataframe tbody tr th {\n",
       "        vertical-align: top;\n",
       "    }\n",
       "\n",
       "    .dataframe thead th {\n",
       "        text-align: right;\n",
       "    }\n",
       "</style>\n",
       "<table border=\"1\" class=\"dataframe\">\n",
       "  <thead>\n",
       "    <tr style=\"text-align: right;\">\n",
       "      <th></th>\n",
       "      <th>Name</th>\n",
       "      <th>date_of_birth</th>\n",
       "      <th>age</th>\n",
       "    </tr>\n",
       "  </thead>\n",
       "  <tbody>\n",
       "    <tr>\n",
       "      <th>0</th>\n",
       "      <td>Alberto</td>\n",
       "      <td>17/05/2002</td>\n",
       "      <td>18.5</td>\n",
       "    </tr>\n",
       "    <tr>\n",
       "      <th>1</th>\n",
       "      <td>Gino</td>\n",
       "      <td>16/02/1999</td>\n",
       "      <td>21.2</td>\n",
       "    </tr>\n",
       "    <tr>\n",
       "      <th>2</th>\n",
       "      <td>Ryan</td>\n",
       "      <td>25/09/1998</td>\n",
       "      <td>22.5</td>\n",
       "    </tr>\n",
       "    <tr>\n",
       "      <th>3</th>\n",
       "      <td>Eesha</td>\n",
       "      <td>11/05/2002</td>\n",
       "      <td>22.0</td>\n",
       "    </tr>\n",
       "    <tr>\n",
       "      <th>4</th>\n",
       "      <td>Syed</td>\n",
       "      <td>15/09/1997</td>\n",
       "      <td>23.0</td>\n",
       "    </tr>\n",
       "  </tbody>\n",
       "</table>\n",
       "</div>"
      ],
      "text/plain": [
       "      Name date_of_birth   age\n",
       "0  Alberto    17/05/2002  18.5\n",
       "1     Gino    16/02/1999  21.2\n",
       "2     Ryan    25/09/1998  22.5\n",
       "3    Eesha    11/05/2002  22.0\n",
       "4     Syed    15/09/1997  23.0"
      ]
     },
     "execution_count": 31,
     "metadata": {},
     "output_type": "execute_result"
    }
   ],
   "source": [
    "df"
   ]
  },
  {
   "cell_type": "markdown",
   "id": "5cc83a0d",
   "metadata": {},
   "source": [
    "## 6.Write a Pandas program to find the index of a given substring of a DataFrame column."
   ]
  },
  {
   "cell_type": "code",
   "execution_count": 32,
   "id": "d44fee63",
   "metadata": {},
   "outputs": [],
   "source": [
    "df = pd.DataFrame({'name_code':['c001','c002','c022','c2002','c2222'],\n",
    "                  'date_of_birth':['12/05/2002','16/02/1999','25/09/1998','12/02/2022','15/09/1997'],\n",
    "                  'age':[18.5,21.2,22.5,22,23]})"
   ]
  },
  {
   "cell_type": "code",
   "execution_count": 33,
   "id": "a82aa2ac",
   "metadata": {},
   "outputs": [
    {
     "data": {
      "text/html": [
       "<div>\n",
       "<style scoped>\n",
       "    .dataframe tbody tr th:only-of-type {\n",
       "        vertical-align: middle;\n",
       "    }\n",
       "\n",
       "    .dataframe tbody tr th {\n",
       "        vertical-align: top;\n",
       "    }\n",
       "\n",
       "    .dataframe thead th {\n",
       "        text-align: right;\n",
       "    }\n",
       "</style>\n",
       "<table border=\"1\" class=\"dataframe\">\n",
       "  <thead>\n",
       "    <tr style=\"text-align: right;\">\n",
       "      <th></th>\n",
       "      <th>name_code</th>\n",
       "      <th>date_of_birth</th>\n",
       "      <th>age</th>\n",
       "    </tr>\n",
       "  </thead>\n",
       "  <tbody>\n",
       "    <tr>\n",
       "      <th>0</th>\n",
       "      <td>c001</td>\n",
       "      <td>12/05/2002</td>\n",
       "      <td>18.5</td>\n",
       "    </tr>\n",
       "    <tr>\n",
       "      <th>1</th>\n",
       "      <td>c002</td>\n",
       "      <td>16/02/1999</td>\n",
       "      <td>21.2</td>\n",
       "    </tr>\n",
       "    <tr>\n",
       "      <th>2</th>\n",
       "      <td>c022</td>\n",
       "      <td>25/09/1998</td>\n",
       "      <td>22.5</td>\n",
       "    </tr>\n",
       "    <tr>\n",
       "      <th>3</th>\n",
       "      <td>c2002</td>\n",
       "      <td>12/02/2022</td>\n",
       "      <td>22.0</td>\n",
       "    </tr>\n",
       "    <tr>\n",
       "      <th>4</th>\n",
       "      <td>c2222</td>\n",
       "      <td>15/09/1997</td>\n",
       "      <td>23.0</td>\n",
       "    </tr>\n",
       "  </tbody>\n",
       "</table>\n",
       "</div>"
      ],
      "text/plain": [
       "  name_code date_of_birth   age\n",
       "0      c001    12/05/2002  18.5\n",
       "1      c002    16/02/1999  21.2\n",
       "2      c022    25/09/1998  22.5\n",
       "3     c2002    12/02/2022  22.0\n",
       "4     c2222    15/09/1997  23.0"
      ]
     },
     "execution_count": 33,
     "metadata": {},
     "output_type": "execute_result"
    }
   ],
   "source": [
    "df"
   ]
  },
  {
   "cell_type": "code",
   "execution_count": 34,
   "id": "bed2ef05",
   "metadata": {},
   "outputs": [],
   "source": [
    "df['Count'] = list(map(lambda x:x.count('2'),df['name_code']))"
   ]
  },
  {
   "cell_type": "code",
   "execution_count": 35,
   "id": "a2203b5e",
   "metadata": {},
   "outputs": [
    {
     "data": {
      "text/html": [
       "<div>\n",
       "<style scoped>\n",
       "    .dataframe tbody tr th:only-of-type {\n",
       "        vertical-align: middle;\n",
       "    }\n",
       "\n",
       "    .dataframe tbody tr th {\n",
       "        vertical-align: top;\n",
       "    }\n",
       "\n",
       "    .dataframe thead th {\n",
       "        text-align: right;\n",
       "    }\n",
       "</style>\n",
       "<table border=\"1\" class=\"dataframe\">\n",
       "  <thead>\n",
       "    <tr style=\"text-align: right;\">\n",
       "      <th></th>\n",
       "      <th>name_code</th>\n",
       "      <th>date_of_birth</th>\n",
       "      <th>age</th>\n",
       "      <th>Count</th>\n",
       "    </tr>\n",
       "  </thead>\n",
       "  <tbody>\n",
       "    <tr>\n",
       "      <th>0</th>\n",
       "      <td>c001</td>\n",
       "      <td>12/05/2002</td>\n",
       "      <td>18.5</td>\n",
       "      <td>0</td>\n",
       "    </tr>\n",
       "    <tr>\n",
       "      <th>1</th>\n",
       "      <td>c002</td>\n",
       "      <td>16/02/1999</td>\n",
       "      <td>21.2</td>\n",
       "      <td>1</td>\n",
       "    </tr>\n",
       "    <tr>\n",
       "      <th>2</th>\n",
       "      <td>c022</td>\n",
       "      <td>25/09/1998</td>\n",
       "      <td>22.5</td>\n",
       "      <td>2</td>\n",
       "    </tr>\n",
       "    <tr>\n",
       "      <th>3</th>\n",
       "      <td>c2002</td>\n",
       "      <td>12/02/2022</td>\n",
       "      <td>22.0</td>\n",
       "      <td>2</td>\n",
       "    </tr>\n",
       "    <tr>\n",
       "      <th>4</th>\n",
       "      <td>c2222</td>\n",
       "      <td>15/09/1997</td>\n",
       "      <td>23.0</td>\n",
       "      <td>4</td>\n",
       "    </tr>\n",
       "  </tbody>\n",
       "</table>\n",
       "</div>"
      ],
      "text/plain": [
       "  name_code date_of_birth   age  Count\n",
       "0      c001    12/05/2002  18.5      0\n",
       "1      c002    16/02/1999  21.2      1\n",
       "2      c022    25/09/1998  22.5      2\n",
       "3     c2002    12/02/2022  22.0      2\n",
       "4     c2222    15/09/1997  23.0      4"
      ]
     },
     "execution_count": 35,
     "metadata": {},
     "output_type": "execute_result"
    }
   ],
   "source": [
    "df"
   ]
  },
  {
   "cell_type": "markdown",
   "id": "5c762f19",
   "metadata": {},
   "source": [
    "## 7.Write a Pandas program to find the index of a given substring of a DataFrame column."
   ]
  },
  {
   "cell_type": "code",
   "execution_count": 36,
   "id": "b9b37e0e",
   "metadata": {},
   "outputs": [],
   "source": [
    "df = pd.DataFrame({'name_code':['c001','c002','c022','c2002','c2222'],\n",
    "                  'date_of_birth':['12/05/2002','16/02/1999','25/09/1998','12/02/2022','15/09/1997'],\n",
    "                  'age':[18.5,21.2,22.5,22,23]})"
   ]
  },
  {
   "cell_type": "code",
   "execution_count": 37,
   "id": "e2dda783",
   "metadata": {},
   "outputs": [
    {
     "data": {
      "text/html": [
       "<div>\n",
       "<style scoped>\n",
       "    .dataframe tbody tr th:only-of-type {\n",
       "        vertical-align: middle;\n",
       "    }\n",
       "\n",
       "    .dataframe tbody tr th {\n",
       "        vertical-align: top;\n",
       "    }\n",
       "\n",
       "    .dataframe thead th {\n",
       "        text-align: right;\n",
       "    }\n",
       "</style>\n",
       "<table border=\"1\" class=\"dataframe\">\n",
       "  <thead>\n",
       "    <tr style=\"text-align: right;\">\n",
       "      <th></th>\n",
       "      <th>name_code</th>\n",
       "      <th>date_of_birth</th>\n",
       "      <th>age</th>\n",
       "    </tr>\n",
       "  </thead>\n",
       "  <tbody>\n",
       "    <tr>\n",
       "      <th>0</th>\n",
       "      <td>c001</td>\n",
       "      <td>12/05/2002</td>\n",
       "      <td>18.5</td>\n",
       "    </tr>\n",
       "    <tr>\n",
       "      <th>1</th>\n",
       "      <td>c002</td>\n",
       "      <td>16/02/1999</td>\n",
       "      <td>21.2</td>\n",
       "    </tr>\n",
       "    <tr>\n",
       "      <th>2</th>\n",
       "      <td>c022</td>\n",
       "      <td>25/09/1998</td>\n",
       "      <td>22.5</td>\n",
       "    </tr>\n",
       "    <tr>\n",
       "      <th>3</th>\n",
       "      <td>c2002</td>\n",
       "      <td>12/02/2022</td>\n",
       "      <td>22.0</td>\n",
       "    </tr>\n",
       "    <tr>\n",
       "      <th>4</th>\n",
       "      <td>c2222</td>\n",
       "      <td>15/09/1997</td>\n",
       "      <td>23.0</td>\n",
       "    </tr>\n",
       "  </tbody>\n",
       "</table>\n",
       "</div>"
      ],
      "text/plain": [
       "  name_code date_of_birth   age\n",
       "0      c001    12/05/2002  18.5\n",
       "1      c002    16/02/1999  21.2\n",
       "2      c022    25/09/1998  22.5\n",
       "3     c2002    12/02/2022  22.0\n",
       "4     c2222    15/09/1997  23.0"
      ]
     },
     "execution_count": 37,
     "metadata": {},
     "output_type": "execute_result"
    }
   ],
   "source": [
    "df"
   ]
  },
  {
   "cell_type": "code",
   "execution_count": 38,
   "id": "12c3e611",
   "metadata": {},
   "outputs": [],
   "source": [
    "df['Index'] = list(map(lambda x:x.find('22'),df['name_code']))"
   ]
  },
  {
   "cell_type": "code",
   "execution_count": 39,
   "id": "1215af0f",
   "metadata": {},
   "outputs": [
    {
     "data": {
      "text/html": [
       "<div>\n",
       "<style scoped>\n",
       "    .dataframe tbody tr th:only-of-type {\n",
       "        vertical-align: middle;\n",
       "    }\n",
       "\n",
       "    .dataframe tbody tr th {\n",
       "        vertical-align: top;\n",
       "    }\n",
       "\n",
       "    .dataframe thead th {\n",
       "        text-align: right;\n",
       "    }\n",
       "</style>\n",
       "<table border=\"1\" class=\"dataframe\">\n",
       "  <thead>\n",
       "    <tr style=\"text-align: right;\">\n",
       "      <th></th>\n",
       "      <th>name_code</th>\n",
       "      <th>date_of_birth</th>\n",
       "      <th>age</th>\n",
       "      <th>Index</th>\n",
       "    </tr>\n",
       "  </thead>\n",
       "  <tbody>\n",
       "    <tr>\n",
       "      <th>0</th>\n",
       "      <td>c001</td>\n",
       "      <td>12/05/2002</td>\n",
       "      <td>18.5</td>\n",
       "      <td>-1</td>\n",
       "    </tr>\n",
       "    <tr>\n",
       "      <th>1</th>\n",
       "      <td>c002</td>\n",
       "      <td>16/02/1999</td>\n",
       "      <td>21.2</td>\n",
       "      <td>-1</td>\n",
       "    </tr>\n",
       "    <tr>\n",
       "      <th>2</th>\n",
       "      <td>c022</td>\n",
       "      <td>25/09/1998</td>\n",
       "      <td>22.5</td>\n",
       "      <td>2</td>\n",
       "    </tr>\n",
       "    <tr>\n",
       "      <th>3</th>\n",
       "      <td>c2002</td>\n",
       "      <td>12/02/2022</td>\n",
       "      <td>22.0</td>\n",
       "      <td>-1</td>\n",
       "    </tr>\n",
       "    <tr>\n",
       "      <th>4</th>\n",
       "      <td>c2222</td>\n",
       "      <td>15/09/1997</td>\n",
       "      <td>23.0</td>\n",
       "      <td>1</td>\n",
       "    </tr>\n",
       "  </tbody>\n",
       "</table>\n",
       "</div>"
      ],
      "text/plain": [
       "  name_code date_of_birth   age  Index\n",
       "0      c001    12/05/2002  18.5     -1\n",
       "1      c002    16/02/1999  21.2     -1\n",
       "2      c022    25/09/1998  22.5      2\n",
       "3     c2002    12/02/2022  22.0     -1\n",
       "4     c2222    15/09/1997  23.0      1"
      ]
     },
     "execution_count": 39,
     "metadata": {},
     "output_type": "execute_result"
    }
   ],
   "source": [
    "df"
   ]
  },
  {
   "cell_type": "markdown",
   "id": "79dd3f90",
   "metadata": {},
   "source": [
    "## 8.Write a Pandas program to find the index of a substring of DataFrame with begining and end position."
   ]
  },
  {
   "cell_type": "code",
   "execution_count": 40,
   "id": "716f882c",
   "metadata": {},
   "outputs": [],
   "source": [
    "df = pd.DataFrame({'name_code':['c001','1000c','b00c2','b2c02','c2222'],\n",
    "                  'date_of_birth':['12/05/2002','16/02/1999','25/09/1998','12/02/2022','15/09/1997'],\n",
    "                  'age':[18.5,21.2,22.5,22,23]})"
   ]
  },
  {
   "cell_type": "code",
   "execution_count": 41,
   "id": "b4201d4c",
   "metadata": {},
   "outputs": [
    {
     "data": {
      "text/html": [
       "<div>\n",
       "<style scoped>\n",
       "    .dataframe tbody tr th:only-of-type {\n",
       "        vertical-align: middle;\n",
       "    }\n",
       "\n",
       "    .dataframe tbody tr th {\n",
       "        vertical-align: top;\n",
       "    }\n",
       "\n",
       "    .dataframe thead th {\n",
       "        text-align: right;\n",
       "    }\n",
       "</style>\n",
       "<table border=\"1\" class=\"dataframe\">\n",
       "  <thead>\n",
       "    <tr style=\"text-align: right;\">\n",
       "      <th></th>\n",
       "      <th>name_code</th>\n",
       "      <th>date_of_birth</th>\n",
       "      <th>age</th>\n",
       "    </tr>\n",
       "  </thead>\n",
       "  <tbody>\n",
       "    <tr>\n",
       "      <th>0</th>\n",
       "      <td>c001</td>\n",
       "      <td>12/05/2002</td>\n",
       "      <td>18.5</td>\n",
       "    </tr>\n",
       "    <tr>\n",
       "      <th>1</th>\n",
       "      <td>1000c</td>\n",
       "      <td>16/02/1999</td>\n",
       "      <td>21.2</td>\n",
       "    </tr>\n",
       "    <tr>\n",
       "      <th>2</th>\n",
       "      <td>b00c2</td>\n",
       "      <td>25/09/1998</td>\n",
       "      <td>22.5</td>\n",
       "    </tr>\n",
       "    <tr>\n",
       "      <th>3</th>\n",
       "      <td>b2c02</td>\n",
       "      <td>12/02/2022</td>\n",
       "      <td>22.0</td>\n",
       "    </tr>\n",
       "    <tr>\n",
       "      <th>4</th>\n",
       "      <td>c2222</td>\n",
       "      <td>15/09/1997</td>\n",
       "      <td>23.0</td>\n",
       "    </tr>\n",
       "  </tbody>\n",
       "</table>\n",
       "</div>"
      ],
      "text/plain": [
       "  name_code date_of_birth   age\n",
       "0      c001    12/05/2002  18.5\n",
       "1     1000c    16/02/1999  21.2\n",
       "2     b00c2    25/09/1998  22.5\n",
       "3     b2c02    12/02/2022  22.0\n",
       "4     c2222    15/09/1997  23.0"
      ]
     },
     "execution_count": 41,
     "metadata": {},
     "output_type": "execute_result"
    }
   ],
   "source": [
    "df"
   ]
  },
  {
   "cell_type": "code",
   "execution_count": 42,
   "id": "076b18b2",
   "metadata": {},
   "outputs": [],
   "source": [
    "df['Index'] = list(map(lambda x:x.find('c',0,5),df.name_code))"
   ]
  },
  {
   "cell_type": "code",
   "execution_count": 43,
   "id": "07d595ba",
   "metadata": {},
   "outputs": [
    {
     "data": {
      "text/html": [
       "<div>\n",
       "<style scoped>\n",
       "    .dataframe tbody tr th:only-of-type {\n",
       "        vertical-align: middle;\n",
       "    }\n",
       "\n",
       "    .dataframe tbody tr th {\n",
       "        vertical-align: top;\n",
       "    }\n",
       "\n",
       "    .dataframe thead th {\n",
       "        text-align: right;\n",
       "    }\n",
       "</style>\n",
       "<table border=\"1\" class=\"dataframe\">\n",
       "  <thead>\n",
       "    <tr style=\"text-align: right;\">\n",
       "      <th></th>\n",
       "      <th>name_code</th>\n",
       "      <th>date_of_birth</th>\n",
       "      <th>age</th>\n",
       "      <th>Index</th>\n",
       "    </tr>\n",
       "  </thead>\n",
       "  <tbody>\n",
       "    <tr>\n",
       "      <th>0</th>\n",
       "      <td>c001</td>\n",
       "      <td>12/05/2002</td>\n",
       "      <td>18.5</td>\n",
       "      <td>0</td>\n",
       "    </tr>\n",
       "    <tr>\n",
       "      <th>1</th>\n",
       "      <td>1000c</td>\n",
       "      <td>16/02/1999</td>\n",
       "      <td>21.2</td>\n",
       "      <td>4</td>\n",
       "    </tr>\n",
       "    <tr>\n",
       "      <th>2</th>\n",
       "      <td>b00c2</td>\n",
       "      <td>25/09/1998</td>\n",
       "      <td>22.5</td>\n",
       "      <td>3</td>\n",
       "    </tr>\n",
       "    <tr>\n",
       "      <th>3</th>\n",
       "      <td>b2c02</td>\n",
       "      <td>12/02/2022</td>\n",
       "      <td>22.0</td>\n",
       "      <td>2</td>\n",
       "    </tr>\n",
       "    <tr>\n",
       "      <th>4</th>\n",
       "      <td>c2222</td>\n",
       "      <td>15/09/1997</td>\n",
       "      <td>23.0</td>\n",
       "      <td>0</td>\n",
       "    </tr>\n",
       "  </tbody>\n",
       "</table>\n",
       "</div>"
      ],
      "text/plain": [
       "  name_code date_of_birth   age  Index\n",
       "0      c001    12/05/2002  18.5      0\n",
       "1     1000c    16/02/1999  21.2      4\n",
       "2     b00c2    25/09/1998  22.5      3\n",
       "3     b2c02    12/02/2022  22.0      2\n",
       "4     c2222    15/09/1997  23.0      0"
      ]
     },
     "execution_count": 43,
     "metadata": {},
     "output_type": "execute_result"
    }
   ],
   "source": [
    "df"
   ]
  },
  {
   "cell_type": "markdown",
   "id": "89837c56",
   "metadata": {},
   "source": [
    "## 9.Write a Pandas program to check alphanumeric values present in a given column of a DataFrame."
   ]
  },
  {
   "cell_type": "code",
   "execution_count": 44,
   "id": "4ba24914",
   "metadata": {},
   "outputs": [],
   "source": [
    "df = pd.DataFrame({'name_code':['Company','Company c001','Company 123','1234','Company 12'],\n",
    "                  'date_of_birth':['12/05/2002','16/02/1999','25/09/1998','12/02/2022','15/09/1997'],\n",
    "                  'age':[18.5,21.2,22.5,22,23]})"
   ]
  },
  {
   "cell_type": "code",
   "execution_count": 45,
   "id": "ae921305",
   "metadata": {},
   "outputs": [
    {
     "data": {
      "text/html": [
       "<div>\n",
       "<style scoped>\n",
       "    .dataframe tbody tr th:only-of-type {\n",
       "        vertical-align: middle;\n",
       "    }\n",
       "\n",
       "    .dataframe tbody tr th {\n",
       "        vertical-align: top;\n",
       "    }\n",
       "\n",
       "    .dataframe thead th {\n",
       "        text-align: right;\n",
       "    }\n",
       "</style>\n",
       "<table border=\"1\" class=\"dataframe\">\n",
       "  <thead>\n",
       "    <tr style=\"text-align: right;\">\n",
       "      <th></th>\n",
       "      <th>name_code</th>\n",
       "      <th>date_of_birth</th>\n",
       "      <th>age</th>\n",
       "    </tr>\n",
       "  </thead>\n",
       "  <tbody>\n",
       "    <tr>\n",
       "      <th>0</th>\n",
       "      <td>Company</td>\n",
       "      <td>12/05/2002</td>\n",
       "      <td>18.5</td>\n",
       "    </tr>\n",
       "    <tr>\n",
       "      <th>1</th>\n",
       "      <td>Company c001</td>\n",
       "      <td>16/02/1999</td>\n",
       "      <td>21.2</td>\n",
       "    </tr>\n",
       "    <tr>\n",
       "      <th>2</th>\n",
       "      <td>Company 123</td>\n",
       "      <td>25/09/1998</td>\n",
       "      <td>22.5</td>\n",
       "    </tr>\n",
       "    <tr>\n",
       "      <th>3</th>\n",
       "      <td>1234</td>\n",
       "      <td>12/02/2022</td>\n",
       "      <td>22.0</td>\n",
       "    </tr>\n",
       "    <tr>\n",
       "      <th>4</th>\n",
       "      <td>Company 12</td>\n",
       "      <td>15/09/1997</td>\n",
       "      <td>23.0</td>\n",
       "    </tr>\n",
       "  </tbody>\n",
       "</table>\n",
       "</div>"
      ],
      "text/plain": [
       "      name_code date_of_birth   age\n",
       "0       Company    12/05/2002  18.5\n",
       "1  Company c001    16/02/1999  21.2\n",
       "2   Company 123    25/09/1998  22.5\n",
       "3          1234    12/02/2022  22.0\n",
       "4    Company 12    15/09/1997  23.0"
      ]
     },
     "execution_count": 45,
     "metadata": {},
     "output_type": "execute_result"
    }
   ],
   "source": [
    "df"
   ]
  },
  {
   "cell_type": "code",
   "execution_count": 46,
   "id": "65ef4d4d",
   "metadata": {},
   "outputs": [],
   "source": [
    "df['alphanumeric'] = list(map(lambda x:x.isalnum(),df.name_code))"
   ]
  },
  {
   "cell_type": "code",
   "execution_count": 47,
   "id": "57ed2224",
   "metadata": {},
   "outputs": [
    {
     "data": {
      "text/html": [
       "<div>\n",
       "<style scoped>\n",
       "    .dataframe tbody tr th:only-of-type {\n",
       "        vertical-align: middle;\n",
       "    }\n",
       "\n",
       "    .dataframe tbody tr th {\n",
       "        vertical-align: top;\n",
       "    }\n",
       "\n",
       "    .dataframe thead th {\n",
       "        text-align: right;\n",
       "    }\n",
       "</style>\n",
       "<table border=\"1\" class=\"dataframe\">\n",
       "  <thead>\n",
       "    <tr style=\"text-align: right;\">\n",
       "      <th></th>\n",
       "      <th>name_code</th>\n",
       "      <th>date_of_birth</th>\n",
       "      <th>age</th>\n",
       "      <th>alphanumeric</th>\n",
       "    </tr>\n",
       "  </thead>\n",
       "  <tbody>\n",
       "    <tr>\n",
       "      <th>0</th>\n",
       "      <td>Company</td>\n",
       "      <td>12/05/2002</td>\n",
       "      <td>18.5</td>\n",
       "      <td>True</td>\n",
       "    </tr>\n",
       "    <tr>\n",
       "      <th>1</th>\n",
       "      <td>Company c001</td>\n",
       "      <td>16/02/1999</td>\n",
       "      <td>21.2</td>\n",
       "      <td>False</td>\n",
       "    </tr>\n",
       "    <tr>\n",
       "      <th>2</th>\n",
       "      <td>Company 123</td>\n",
       "      <td>25/09/1998</td>\n",
       "      <td>22.5</td>\n",
       "      <td>False</td>\n",
       "    </tr>\n",
       "    <tr>\n",
       "      <th>3</th>\n",
       "      <td>1234</td>\n",
       "      <td>12/02/2022</td>\n",
       "      <td>22.0</td>\n",
       "      <td>True</td>\n",
       "    </tr>\n",
       "    <tr>\n",
       "      <th>4</th>\n",
       "      <td>Company 12</td>\n",
       "      <td>15/09/1997</td>\n",
       "      <td>23.0</td>\n",
       "      <td>False</td>\n",
       "    </tr>\n",
       "  </tbody>\n",
       "</table>\n",
       "</div>"
      ],
      "text/plain": [
       "      name_code date_of_birth   age  alphanumeric\n",
       "0       Company    12/05/2002  18.5          True\n",
       "1  Company c001    16/02/1999  21.2         False\n",
       "2   Company 123    25/09/1998  22.5         False\n",
       "3          1234    12/02/2022  22.0          True\n",
       "4    Company 12    15/09/1997  23.0         False"
      ]
     },
     "execution_count": 47,
     "metadata": {},
     "output_type": "execute_result"
    }
   ],
   "source": [
    "df"
   ]
  },
  {
   "cell_type": "markdown",
   "id": "ef0d837f",
   "metadata": {},
   "source": [
    "## 10.Write a Pandas program to check whether alphabetic values present in a given column of a DataFrame."
   ]
  },
  {
   "cell_type": "code",
   "execution_count": 48,
   "id": "33bad521",
   "metadata": {},
   "outputs": [],
   "source": [
    "df = pd.DataFrame({'name_code':['Company','Company c001','Company 123','abcd','Company 12'],\n",
    "                  'date_of_birth':['12/05/2002','16/02/1999','25/09/1998','12/02/2022','15/09/1997'],\n",
    "                  'sale_amount':[12348.5,233331.2,22.5,2566552.0,23.0]})"
   ]
  },
  {
   "cell_type": "code",
   "execution_count": 49,
   "id": "92d6a1c7",
   "metadata": {},
   "outputs": [
    {
     "data": {
      "text/html": [
       "<div>\n",
       "<style scoped>\n",
       "    .dataframe tbody tr th:only-of-type {\n",
       "        vertical-align: middle;\n",
       "    }\n",
       "\n",
       "    .dataframe tbody tr th {\n",
       "        vertical-align: top;\n",
       "    }\n",
       "\n",
       "    .dataframe thead th {\n",
       "        text-align: right;\n",
       "    }\n",
       "</style>\n",
       "<table border=\"1\" class=\"dataframe\">\n",
       "  <thead>\n",
       "    <tr style=\"text-align: right;\">\n",
       "      <th></th>\n",
       "      <th>name_code</th>\n",
       "      <th>date_of_birth</th>\n",
       "      <th>sale_amount</th>\n",
       "    </tr>\n",
       "  </thead>\n",
       "  <tbody>\n",
       "    <tr>\n",
       "      <th>0</th>\n",
       "      <td>Company</td>\n",
       "      <td>12/05/2002</td>\n",
       "      <td>12348.5</td>\n",
       "    </tr>\n",
       "    <tr>\n",
       "      <th>1</th>\n",
       "      <td>Company c001</td>\n",
       "      <td>16/02/1999</td>\n",
       "      <td>233331.2</td>\n",
       "    </tr>\n",
       "    <tr>\n",
       "      <th>2</th>\n",
       "      <td>Company 123</td>\n",
       "      <td>25/09/1998</td>\n",
       "      <td>22.5</td>\n",
       "    </tr>\n",
       "    <tr>\n",
       "      <th>3</th>\n",
       "      <td>abcd</td>\n",
       "      <td>12/02/2022</td>\n",
       "      <td>2566552.0</td>\n",
       "    </tr>\n",
       "    <tr>\n",
       "      <th>4</th>\n",
       "      <td>Company 12</td>\n",
       "      <td>15/09/1997</td>\n",
       "      <td>23.0</td>\n",
       "    </tr>\n",
       "  </tbody>\n",
       "</table>\n",
       "</div>"
      ],
      "text/plain": [
       "      name_code date_of_birth  sale_amount\n",
       "0       Company    12/05/2002      12348.5\n",
       "1  Company c001    16/02/1999     233331.2\n",
       "2   Company 123    25/09/1998         22.5\n",
       "3          abcd    12/02/2022    2566552.0\n",
       "4    Company 12    15/09/1997         23.0"
      ]
     },
     "execution_count": 49,
     "metadata": {},
     "output_type": "execute_result"
    }
   ],
   "source": [
    "df"
   ]
  },
  {
   "cell_type": "code",
   "execution_count": 50,
   "id": "aaee51fb",
   "metadata": {},
   "outputs": [],
   "source": [
    "df['alpha'] = list(map(lambda x:x.isalpha(),df.name_code))"
   ]
  },
  {
   "cell_type": "code",
   "execution_count": 51,
   "id": "c805ad01",
   "metadata": {},
   "outputs": [
    {
     "data": {
      "text/html": [
       "<div>\n",
       "<style scoped>\n",
       "    .dataframe tbody tr th:only-of-type {\n",
       "        vertical-align: middle;\n",
       "    }\n",
       "\n",
       "    .dataframe tbody tr th {\n",
       "        vertical-align: top;\n",
       "    }\n",
       "\n",
       "    .dataframe thead th {\n",
       "        text-align: right;\n",
       "    }\n",
       "</style>\n",
       "<table border=\"1\" class=\"dataframe\">\n",
       "  <thead>\n",
       "    <tr style=\"text-align: right;\">\n",
       "      <th></th>\n",
       "      <th>name_code</th>\n",
       "      <th>date_of_birth</th>\n",
       "      <th>sale_amount</th>\n",
       "      <th>alpha</th>\n",
       "    </tr>\n",
       "  </thead>\n",
       "  <tbody>\n",
       "    <tr>\n",
       "      <th>0</th>\n",
       "      <td>Company</td>\n",
       "      <td>12/05/2002</td>\n",
       "      <td>12348.5</td>\n",
       "      <td>True</td>\n",
       "    </tr>\n",
       "    <tr>\n",
       "      <th>1</th>\n",
       "      <td>Company c001</td>\n",
       "      <td>16/02/1999</td>\n",
       "      <td>233331.2</td>\n",
       "      <td>False</td>\n",
       "    </tr>\n",
       "    <tr>\n",
       "      <th>2</th>\n",
       "      <td>Company 123</td>\n",
       "      <td>25/09/1998</td>\n",
       "      <td>22.5</td>\n",
       "      <td>False</td>\n",
       "    </tr>\n",
       "    <tr>\n",
       "      <th>3</th>\n",
       "      <td>abcd</td>\n",
       "      <td>12/02/2022</td>\n",
       "      <td>2566552.0</td>\n",
       "      <td>True</td>\n",
       "    </tr>\n",
       "    <tr>\n",
       "      <th>4</th>\n",
       "      <td>Company 12</td>\n",
       "      <td>15/09/1997</td>\n",
       "      <td>23.0</td>\n",
       "      <td>False</td>\n",
       "    </tr>\n",
       "  </tbody>\n",
       "</table>\n",
       "</div>"
      ],
      "text/plain": [
       "      name_code date_of_birth  sale_amount  alpha\n",
       "0       Company    12/05/2002      12348.5   True\n",
       "1  Company c001    16/02/1999     233331.2  False\n",
       "2   Company 123    25/09/1998         22.5  False\n",
       "3          abcd    12/02/2022    2566552.0   True\n",
       "4    Company 12    15/09/1997         23.0  False"
      ]
     },
     "execution_count": 51,
     "metadata": {},
     "output_type": "execute_result"
    }
   ],
   "source": [
    "df"
   ]
  },
  {
   "cell_type": "markdown",
   "id": "ccfe94b4",
   "metadata": {},
   "source": [
    "## 11.Write a Pandas program to check whether only numeric values present in a given column of DataFrame."
   ]
  },
  {
   "cell_type": "code",
   "execution_count": 52,
   "id": "cb10c06b",
   "metadata": {},
   "outputs": [],
   "source": [
    "df = pd.DataFrame({'name_code':['Company','Company c001','2055','abcd','123345'],\n",
    "                  'date_of_birth':['12/05/2002','16/02/1999','25/09/1998','12/02/2022','15/09/1997'],\n",
    "                  'sale_amount':[12348.5,233331.2,22.5,2566552.0,23.0]})"
   ]
  },
  {
   "cell_type": "code",
   "execution_count": 53,
   "id": "b5ee045f",
   "metadata": {},
   "outputs": [
    {
     "data": {
      "text/html": [
       "<div>\n",
       "<style scoped>\n",
       "    .dataframe tbody tr th:only-of-type {\n",
       "        vertical-align: middle;\n",
       "    }\n",
       "\n",
       "    .dataframe tbody tr th {\n",
       "        vertical-align: top;\n",
       "    }\n",
       "\n",
       "    .dataframe thead th {\n",
       "        text-align: right;\n",
       "    }\n",
       "</style>\n",
       "<table border=\"1\" class=\"dataframe\">\n",
       "  <thead>\n",
       "    <tr style=\"text-align: right;\">\n",
       "      <th></th>\n",
       "      <th>name_code</th>\n",
       "      <th>date_of_birth</th>\n",
       "      <th>sale_amount</th>\n",
       "    </tr>\n",
       "  </thead>\n",
       "  <tbody>\n",
       "    <tr>\n",
       "      <th>0</th>\n",
       "      <td>Company</td>\n",
       "      <td>12/05/2002</td>\n",
       "      <td>12348.5</td>\n",
       "    </tr>\n",
       "    <tr>\n",
       "      <th>1</th>\n",
       "      <td>Company c001</td>\n",
       "      <td>16/02/1999</td>\n",
       "      <td>233331.2</td>\n",
       "    </tr>\n",
       "    <tr>\n",
       "      <th>2</th>\n",
       "      <td>2055</td>\n",
       "      <td>25/09/1998</td>\n",
       "      <td>22.5</td>\n",
       "    </tr>\n",
       "    <tr>\n",
       "      <th>3</th>\n",
       "      <td>abcd</td>\n",
       "      <td>12/02/2022</td>\n",
       "      <td>2566552.0</td>\n",
       "    </tr>\n",
       "    <tr>\n",
       "      <th>4</th>\n",
       "      <td>123345</td>\n",
       "      <td>15/09/1997</td>\n",
       "      <td>23.0</td>\n",
       "    </tr>\n",
       "  </tbody>\n",
       "</table>\n",
       "</div>"
      ],
      "text/plain": [
       "      name_code date_of_birth  sale_amount\n",
       "0       Company    12/05/2002      12348.5\n",
       "1  Company c001    16/02/1999     233331.2\n",
       "2          2055    25/09/1998         22.5\n",
       "3          abcd    12/02/2022    2566552.0\n",
       "4        123345    15/09/1997         23.0"
      ]
     },
     "execution_count": 53,
     "metadata": {},
     "output_type": "execute_result"
    }
   ],
   "source": [
    "df"
   ]
  },
  {
   "cell_type": "code",
   "execution_count": 54,
   "id": "f22a8fa5",
   "metadata": {},
   "outputs": [],
   "source": [
    "df['digit'] = list(map(lambda x:x.isdigit(),df.name_code))"
   ]
  },
  {
   "cell_type": "code",
   "execution_count": 55,
   "id": "dc12143e",
   "metadata": {},
   "outputs": [
    {
     "data": {
      "text/html": [
       "<div>\n",
       "<style scoped>\n",
       "    .dataframe tbody tr th:only-of-type {\n",
       "        vertical-align: middle;\n",
       "    }\n",
       "\n",
       "    .dataframe tbody tr th {\n",
       "        vertical-align: top;\n",
       "    }\n",
       "\n",
       "    .dataframe thead th {\n",
       "        text-align: right;\n",
       "    }\n",
       "</style>\n",
       "<table border=\"1\" class=\"dataframe\">\n",
       "  <thead>\n",
       "    <tr style=\"text-align: right;\">\n",
       "      <th></th>\n",
       "      <th>name_code</th>\n",
       "      <th>date_of_birth</th>\n",
       "      <th>sale_amount</th>\n",
       "      <th>digit</th>\n",
       "    </tr>\n",
       "  </thead>\n",
       "  <tbody>\n",
       "    <tr>\n",
       "      <th>0</th>\n",
       "      <td>Company</td>\n",
       "      <td>12/05/2002</td>\n",
       "      <td>12348.5</td>\n",
       "      <td>False</td>\n",
       "    </tr>\n",
       "    <tr>\n",
       "      <th>1</th>\n",
       "      <td>Company c001</td>\n",
       "      <td>16/02/1999</td>\n",
       "      <td>233331.2</td>\n",
       "      <td>False</td>\n",
       "    </tr>\n",
       "    <tr>\n",
       "      <th>2</th>\n",
       "      <td>2055</td>\n",
       "      <td>25/09/1998</td>\n",
       "      <td>22.5</td>\n",
       "      <td>True</td>\n",
       "    </tr>\n",
       "    <tr>\n",
       "      <th>3</th>\n",
       "      <td>abcd</td>\n",
       "      <td>12/02/2022</td>\n",
       "      <td>2566552.0</td>\n",
       "      <td>False</td>\n",
       "    </tr>\n",
       "    <tr>\n",
       "      <th>4</th>\n",
       "      <td>123345</td>\n",
       "      <td>15/09/1997</td>\n",
       "      <td>23.0</td>\n",
       "      <td>True</td>\n",
       "    </tr>\n",
       "  </tbody>\n",
       "</table>\n",
       "</div>"
      ],
      "text/plain": [
       "      name_code date_of_birth  sale_amount  digit\n",
       "0       Company    12/05/2002      12348.5  False\n",
       "1  Company c001    16/02/1999     233331.2  False\n",
       "2          2055    25/09/1998         22.5   True\n",
       "3          abcd    12/02/2022    2566552.0  False\n",
       "4        123345    15/09/1997         23.0   True"
      ]
     },
     "execution_count": 55,
     "metadata": {},
     "output_type": "execute_result"
    }
   ],
   "source": [
    "df"
   ]
  },
  {
   "cell_type": "markdown",
   "id": "4d0e34e5",
   "metadata": {},
   "source": [
    "## 12.Write a Pandas program to check whether only lower case or upper case is present in a given column of DataFrame."
   ]
  },
  {
   "cell_type": "code",
   "execution_count": 56,
   "id": "8d0e81f9",
   "metadata": {},
   "outputs": [],
   "source": [
    "df = pd.DataFrame({'company_code':['ABCD','EFGF','hhhh','abcd','EAWQaaa'],'date_of_sale':['12/05/2002','16/02/1999','25/09/1998','12/02/2002','15/09/1997'],\n",
    "                  'sale_amount':[12348.5,233331.2,22.5,2566552.0,23.0]})"
   ]
  },
  {
   "cell_type": "code",
   "execution_count": 57,
   "id": "e5331097",
   "metadata": {},
   "outputs": [
    {
     "data": {
      "text/html": [
       "<div>\n",
       "<style scoped>\n",
       "    .dataframe tbody tr th:only-of-type {\n",
       "        vertical-align: middle;\n",
       "    }\n",
       "\n",
       "    .dataframe tbody tr th {\n",
       "        vertical-align: top;\n",
       "    }\n",
       "\n",
       "    .dataframe thead th {\n",
       "        text-align: right;\n",
       "    }\n",
       "</style>\n",
       "<table border=\"1\" class=\"dataframe\">\n",
       "  <thead>\n",
       "    <tr style=\"text-align: right;\">\n",
       "      <th></th>\n",
       "      <th>company_code</th>\n",
       "      <th>date_of_sale</th>\n",
       "      <th>sale_amount</th>\n",
       "    </tr>\n",
       "  </thead>\n",
       "  <tbody>\n",
       "    <tr>\n",
       "      <th>0</th>\n",
       "      <td>ABCD</td>\n",
       "      <td>12/05/2002</td>\n",
       "      <td>12348.5</td>\n",
       "    </tr>\n",
       "    <tr>\n",
       "      <th>1</th>\n",
       "      <td>EFGF</td>\n",
       "      <td>16/02/1999</td>\n",
       "      <td>233331.2</td>\n",
       "    </tr>\n",
       "    <tr>\n",
       "      <th>2</th>\n",
       "      <td>hhhh</td>\n",
       "      <td>25/09/1998</td>\n",
       "      <td>22.5</td>\n",
       "    </tr>\n",
       "    <tr>\n",
       "      <th>3</th>\n",
       "      <td>abcd</td>\n",
       "      <td>12/02/2002</td>\n",
       "      <td>2566552.0</td>\n",
       "    </tr>\n",
       "    <tr>\n",
       "      <th>4</th>\n",
       "      <td>EAWQaaa</td>\n",
       "      <td>15/09/1997</td>\n",
       "      <td>23.0</td>\n",
       "    </tr>\n",
       "  </tbody>\n",
       "</table>\n",
       "</div>"
      ],
      "text/plain": [
       "  company_code date_of_sale  sale_amount\n",
       "0         ABCD   12/05/2002      12348.5\n",
       "1         EFGF   16/02/1999     233331.2\n",
       "2         hhhh   25/09/1998         22.5\n",
       "3         abcd   12/02/2002    2566552.0\n",
       "4      EAWQaaa   15/09/1997         23.0"
      ]
     },
     "execution_count": 57,
     "metadata": {},
     "output_type": "execute_result"
    }
   ],
   "source": [
    "df"
   ]
  },
  {
   "cell_type": "code",
   "execution_count": 58,
   "id": "1924000f",
   "metadata": {},
   "outputs": [],
   "source": [
    "df['lower'] = df.company_code.str.islower()"
   ]
  },
  {
   "cell_type": "code",
   "execution_count": 59,
   "id": "99675c3b",
   "metadata": {},
   "outputs": [
    {
     "data": {
      "text/html": [
       "<div>\n",
       "<style scoped>\n",
       "    .dataframe tbody tr th:only-of-type {\n",
       "        vertical-align: middle;\n",
       "    }\n",
       "\n",
       "    .dataframe tbody tr th {\n",
       "        vertical-align: top;\n",
       "    }\n",
       "\n",
       "    .dataframe thead th {\n",
       "        text-align: right;\n",
       "    }\n",
       "</style>\n",
       "<table border=\"1\" class=\"dataframe\">\n",
       "  <thead>\n",
       "    <tr style=\"text-align: right;\">\n",
       "      <th></th>\n",
       "      <th>company_code</th>\n",
       "      <th>date_of_sale</th>\n",
       "      <th>sale_amount</th>\n",
       "      <th>lower</th>\n",
       "    </tr>\n",
       "  </thead>\n",
       "  <tbody>\n",
       "    <tr>\n",
       "      <th>0</th>\n",
       "      <td>ABCD</td>\n",
       "      <td>12/05/2002</td>\n",
       "      <td>12348.5</td>\n",
       "      <td>False</td>\n",
       "    </tr>\n",
       "    <tr>\n",
       "      <th>1</th>\n",
       "      <td>EFGF</td>\n",
       "      <td>16/02/1999</td>\n",
       "      <td>233331.2</td>\n",
       "      <td>False</td>\n",
       "    </tr>\n",
       "    <tr>\n",
       "      <th>2</th>\n",
       "      <td>hhhh</td>\n",
       "      <td>25/09/1998</td>\n",
       "      <td>22.5</td>\n",
       "      <td>True</td>\n",
       "    </tr>\n",
       "    <tr>\n",
       "      <th>3</th>\n",
       "      <td>abcd</td>\n",
       "      <td>12/02/2002</td>\n",
       "      <td>2566552.0</td>\n",
       "      <td>True</td>\n",
       "    </tr>\n",
       "    <tr>\n",
       "      <th>4</th>\n",
       "      <td>EAWQaaa</td>\n",
       "      <td>15/09/1997</td>\n",
       "      <td>23.0</td>\n",
       "      <td>False</td>\n",
       "    </tr>\n",
       "  </tbody>\n",
       "</table>\n",
       "</div>"
      ],
      "text/plain": [
       "  company_code date_of_sale  sale_amount  lower\n",
       "0         ABCD   12/05/2002      12348.5  False\n",
       "1         EFGF   16/02/1999     233331.2  False\n",
       "2         hhhh   25/09/1998         22.5   True\n",
       "3         abcd   12/02/2002    2566552.0   True\n",
       "4      EAWQaaa   15/09/1997         23.0  False"
      ]
     },
     "execution_count": 59,
     "metadata": {},
     "output_type": "execute_result"
    }
   ],
   "source": [
    "df"
   ]
  },
  {
   "cell_type": "code",
   "execution_count": 60,
   "id": "35854d99",
   "metadata": {},
   "outputs": [],
   "source": [
    "df['upper'] = df.company_code.str.isupper()"
   ]
  },
  {
   "cell_type": "code",
   "execution_count": 61,
   "id": "028ad2d6",
   "metadata": {},
   "outputs": [
    {
     "data": {
      "text/html": [
       "<div>\n",
       "<style scoped>\n",
       "    .dataframe tbody tr th:only-of-type {\n",
       "        vertical-align: middle;\n",
       "    }\n",
       "\n",
       "    .dataframe tbody tr th {\n",
       "        vertical-align: top;\n",
       "    }\n",
       "\n",
       "    .dataframe thead th {\n",
       "        text-align: right;\n",
       "    }\n",
       "</style>\n",
       "<table border=\"1\" class=\"dataframe\">\n",
       "  <thead>\n",
       "    <tr style=\"text-align: right;\">\n",
       "      <th></th>\n",
       "      <th>company_code</th>\n",
       "      <th>date_of_sale</th>\n",
       "      <th>sale_amount</th>\n",
       "      <th>lower</th>\n",
       "      <th>upper</th>\n",
       "    </tr>\n",
       "  </thead>\n",
       "  <tbody>\n",
       "    <tr>\n",
       "      <th>0</th>\n",
       "      <td>ABCD</td>\n",
       "      <td>12/05/2002</td>\n",
       "      <td>12348.5</td>\n",
       "      <td>False</td>\n",
       "      <td>True</td>\n",
       "    </tr>\n",
       "    <tr>\n",
       "      <th>1</th>\n",
       "      <td>EFGF</td>\n",
       "      <td>16/02/1999</td>\n",
       "      <td>233331.2</td>\n",
       "      <td>False</td>\n",
       "      <td>True</td>\n",
       "    </tr>\n",
       "    <tr>\n",
       "      <th>2</th>\n",
       "      <td>hhhh</td>\n",
       "      <td>25/09/1998</td>\n",
       "      <td>22.5</td>\n",
       "      <td>True</td>\n",
       "      <td>False</td>\n",
       "    </tr>\n",
       "    <tr>\n",
       "      <th>3</th>\n",
       "      <td>abcd</td>\n",
       "      <td>12/02/2002</td>\n",
       "      <td>2566552.0</td>\n",
       "      <td>True</td>\n",
       "      <td>False</td>\n",
       "    </tr>\n",
       "    <tr>\n",
       "      <th>4</th>\n",
       "      <td>EAWQaaa</td>\n",
       "      <td>15/09/1997</td>\n",
       "      <td>23.0</td>\n",
       "      <td>False</td>\n",
       "      <td>False</td>\n",
       "    </tr>\n",
       "  </tbody>\n",
       "</table>\n",
       "</div>"
      ],
      "text/plain": [
       "  company_code date_of_sale  sale_amount  lower  upper\n",
       "0         ABCD   12/05/2002      12348.5  False   True\n",
       "1         EFGF   16/02/1999     233331.2  False   True\n",
       "2         hhhh   25/09/1998         22.5   True  False\n",
       "3         abcd   12/02/2002    2566552.0   True  False\n",
       "4      EAWQaaa   15/09/1997         23.0  False  False"
      ]
     },
     "execution_count": 61,
     "metadata": {},
     "output_type": "execute_result"
    }
   ],
   "source": [
    "df"
   ]
  },
  {
   "cell_type": "markdown",
   "id": "eb6161fc",
   "metadata": {},
   "source": [
    "## 13.Write a Pandas program to check whether only proper case or title case is present in a given column of DataFrame."
   ]
  },
  {
   "cell_type": "code",
   "execution_count": 62,
   "id": "da5f80dc",
   "metadata": {},
   "outputs": [],
   "source": [
    "df = pd.DataFrame({'company_code':['Abcd','EFGF','hhhh','abcd','EAWQaaa'],'date_of_sale':['12/05/2002','16/02/1999','25/09/1998','12/02/2002','15/09/1997'],\n",
    "                  'sale_amount':[12348.5,233331.2,22.5,2566552.0,23.0]})"
   ]
  },
  {
   "cell_type": "code",
   "execution_count": 63,
   "id": "a306051f",
   "metadata": {},
   "outputs": [
    {
     "data": {
      "text/html": [
       "<div>\n",
       "<style scoped>\n",
       "    .dataframe tbody tr th:only-of-type {\n",
       "        vertical-align: middle;\n",
       "    }\n",
       "\n",
       "    .dataframe tbody tr th {\n",
       "        vertical-align: top;\n",
       "    }\n",
       "\n",
       "    .dataframe thead th {\n",
       "        text-align: right;\n",
       "    }\n",
       "</style>\n",
       "<table border=\"1\" class=\"dataframe\">\n",
       "  <thead>\n",
       "    <tr style=\"text-align: right;\">\n",
       "      <th></th>\n",
       "      <th>company_code</th>\n",
       "      <th>date_of_sale</th>\n",
       "      <th>sale_amount</th>\n",
       "    </tr>\n",
       "  </thead>\n",
       "  <tbody>\n",
       "    <tr>\n",
       "      <th>0</th>\n",
       "      <td>Abcd</td>\n",
       "      <td>12/05/2002</td>\n",
       "      <td>12348.5</td>\n",
       "    </tr>\n",
       "    <tr>\n",
       "      <th>1</th>\n",
       "      <td>EFGF</td>\n",
       "      <td>16/02/1999</td>\n",
       "      <td>233331.2</td>\n",
       "    </tr>\n",
       "    <tr>\n",
       "      <th>2</th>\n",
       "      <td>hhhh</td>\n",
       "      <td>25/09/1998</td>\n",
       "      <td>22.5</td>\n",
       "    </tr>\n",
       "    <tr>\n",
       "      <th>3</th>\n",
       "      <td>abcd</td>\n",
       "      <td>12/02/2002</td>\n",
       "      <td>2566552.0</td>\n",
       "    </tr>\n",
       "    <tr>\n",
       "      <th>4</th>\n",
       "      <td>EAWQaaa</td>\n",
       "      <td>15/09/1997</td>\n",
       "      <td>23.0</td>\n",
       "    </tr>\n",
       "  </tbody>\n",
       "</table>\n",
       "</div>"
      ],
      "text/plain": [
       "  company_code date_of_sale  sale_amount\n",
       "0         Abcd   12/05/2002      12348.5\n",
       "1         EFGF   16/02/1999     233331.2\n",
       "2         hhhh   25/09/1998         22.5\n",
       "3         abcd   12/02/2002    2566552.0\n",
       "4      EAWQaaa   15/09/1997         23.0"
      ]
     },
     "execution_count": 63,
     "metadata": {},
     "output_type": "execute_result"
    }
   ],
   "source": [
    "df"
   ]
  },
  {
   "cell_type": "code",
   "execution_count": 64,
   "id": "9b7d2e57",
   "metadata": {},
   "outputs": [],
   "source": [
    "df['proper_title'] = df.company_code.str.istitle()"
   ]
  },
  {
   "cell_type": "code",
   "execution_count": 65,
   "id": "2554a7a3",
   "metadata": {},
   "outputs": [
    {
     "data": {
      "text/html": [
       "<div>\n",
       "<style scoped>\n",
       "    .dataframe tbody tr th:only-of-type {\n",
       "        vertical-align: middle;\n",
       "    }\n",
       "\n",
       "    .dataframe tbody tr th {\n",
       "        vertical-align: top;\n",
       "    }\n",
       "\n",
       "    .dataframe thead th {\n",
       "        text-align: right;\n",
       "    }\n",
       "</style>\n",
       "<table border=\"1\" class=\"dataframe\">\n",
       "  <thead>\n",
       "    <tr style=\"text-align: right;\">\n",
       "      <th></th>\n",
       "      <th>company_code</th>\n",
       "      <th>date_of_sale</th>\n",
       "      <th>sale_amount</th>\n",
       "      <th>proper_title</th>\n",
       "    </tr>\n",
       "  </thead>\n",
       "  <tbody>\n",
       "    <tr>\n",
       "      <th>0</th>\n",
       "      <td>Abcd</td>\n",
       "      <td>12/05/2002</td>\n",
       "      <td>12348.5</td>\n",
       "      <td>True</td>\n",
       "    </tr>\n",
       "    <tr>\n",
       "      <th>1</th>\n",
       "      <td>EFGF</td>\n",
       "      <td>16/02/1999</td>\n",
       "      <td>233331.2</td>\n",
       "      <td>False</td>\n",
       "    </tr>\n",
       "    <tr>\n",
       "      <th>2</th>\n",
       "      <td>hhhh</td>\n",
       "      <td>25/09/1998</td>\n",
       "      <td>22.5</td>\n",
       "      <td>False</td>\n",
       "    </tr>\n",
       "    <tr>\n",
       "      <th>3</th>\n",
       "      <td>abcd</td>\n",
       "      <td>12/02/2002</td>\n",
       "      <td>2566552.0</td>\n",
       "      <td>False</td>\n",
       "    </tr>\n",
       "    <tr>\n",
       "      <th>4</th>\n",
       "      <td>EAWQaaa</td>\n",
       "      <td>15/09/1997</td>\n",
       "      <td>23.0</td>\n",
       "      <td>False</td>\n",
       "    </tr>\n",
       "  </tbody>\n",
       "</table>\n",
       "</div>"
      ],
      "text/plain": [
       "  company_code date_of_sale  sale_amount  proper_title\n",
       "0         Abcd   12/05/2002      12348.5          True\n",
       "1         EFGF   16/02/1999     233331.2         False\n",
       "2         hhhh   25/09/1998         22.5         False\n",
       "3         abcd   12/02/2002    2566552.0         False\n",
       "4      EAWQaaa   15/09/1997         23.0         False"
      ]
     },
     "execution_count": 65,
     "metadata": {},
     "output_type": "execute_result"
    }
   ],
   "source": [
    "df"
   ]
  },
  {
   "cell_type": "markdown",
   "id": "65cdd403",
   "metadata": {},
   "source": [
    "## 14.Write a Pandas program to check whether only space is present in a given column of a DataFrame. "
   ]
  },
  {
   "cell_type": "code",
   "execution_count": 66,
   "id": "1bda9132",
   "metadata": {},
   "outputs": [],
   "source": [
    "df = pd.DataFrame({'company_code':['Abcd',' ','hhhh',' ','EAWQaaa'],'date_of_sale':['12/05/2002','16/02/1999','25/09/1998','12/02/2002','15/09/1997'],\n",
    "                  'sale_amount':[12348.5,233331.2,22.5,2566552.0,23.0]})"
   ]
  },
  {
   "cell_type": "code",
   "execution_count": 67,
   "id": "25f4b992",
   "metadata": {},
   "outputs": [
    {
     "data": {
      "text/html": [
       "<div>\n",
       "<style scoped>\n",
       "    .dataframe tbody tr th:only-of-type {\n",
       "        vertical-align: middle;\n",
       "    }\n",
       "\n",
       "    .dataframe tbody tr th {\n",
       "        vertical-align: top;\n",
       "    }\n",
       "\n",
       "    .dataframe thead th {\n",
       "        text-align: right;\n",
       "    }\n",
       "</style>\n",
       "<table border=\"1\" class=\"dataframe\">\n",
       "  <thead>\n",
       "    <tr style=\"text-align: right;\">\n",
       "      <th></th>\n",
       "      <th>company_code</th>\n",
       "      <th>date_of_sale</th>\n",
       "      <th>sale_amount</th>\n",
       "    </tr>\n",
       "  </thead>\n",
       "  <tbody>\n",
       "    <tr>\n",
       "      <th>0</th>\n",
       "      <td>Abcd</td>\n",
       "      <td>12/05/2002</td>\n",
       "      <td>12348.5</td>\n",
       "    </tr>\n",
       "    <tr>\n",
       "      <th>1</th>\n",
       "      <td></td>\n",
       "      <td>16/02/1999</td>\n",
       "      <td>233331.2</td>\n",
       "    </tr>\n",
       "    <tr>\n",
       "      <th>2</th>\n",
       "      <td>hhhh</td>\n",
       "      <td>25/09/1998</td>\n",
       "      <td>22.5</td>\n",
       "    </tr>\n",
       "    <tr>\n",
       "      <th>3</th>\n",
       "      <td></td>\n",
       "      <td>12/02/2002</td>\n",
       "      <td>2566552.0</td>\n",
       "    </tr>\n",
       "    <tr>\n",
       "      <th>4</th>\n",
       "      <td>EAWQaaa</td>\n",
       "      <td>15/09/1997</td>\n",
       "      <td>23.0</td>\n",
       "    </tr>\n",
       "  </tbody>\n",
       "</table>\n",
       "</div>"
      ],
      "text/plain": [
       "  company_code date_of_sale  sale_amount\n",
       "0         Abcd   12/05/2002      12348.5\n",
       "1                16/02/1999     233331.2\n",
       "2         hhhh   25/09/1998         22.5\n",
       "3                12/02/2002    2566552.0\n",
       "4      EAWQaaa   15/09/1997         23.0"
      ]
     },
     "execution_count": 67,
     "metadata": {},
     "output_type": "execute_result"
    }
   ],
   "source": [
    "df"
   ]
  },
  {
   "cell_type": "code",
   "execution_count": 68,
   "id": "446b40c0",
   "metadata": {},
   "outputs": [],
   "source": [
    "df['space'] = list(map(lambda x:x.isspace(),df.company_code))"
   ]
  },
  {
   "cell_type": "code",
   "execution_count": 69,
   "id": "d6da151b",
   "metadata": {},
   "outputs": [
    {
     "data": {
      "text/html": [
       "<div>\n",
       "<style scoped>\n",
       "    .dataframe tbody tr th:only-of-type {\n",
       "        vertical-align: middle;\n",
       "    }\n",
       "\n",
       "    .dataframe tbody tr th {\n",
       "        vertical-align: top;\n",
       "    }\n",
       "\n",
       "    .dataframe thead th {\n",
       "        text-align: right;\n",
       "    }\n",
       "</style>\n",
       "<table border=\"1\" class=\"dataframe\">\n",
       "  <thead>\n",
       "    <tr style=\"text-align: right;\">\n",
       "      <th></th>\n",
       "      <th>company_code</th>\n",
       "      <th>date_of_sale</th>\n",
       "      <th>sale_amount</th>\n",
       "      <th>space</th>\n",
       "    </tr>\n",
       "  </thead>\n",
       "  <tbody>\n",
       "    <tr>\n",
       "      <th>0</th>\n",
       "      <td>Abcd</td>\n",
       "      <td>12/05/2002</td>\n",
       "      <td>12348.5</td>\n",
       "      <td>False</td>\n",
       "    </tr>\n",
       "    <tr>\n",
       "      <th>1</th>\n",
       "      <td></td>\n",
       "      <td>16/02/1999</td>\n",
       "      <td>233331.2</td>\n",
       "      <td>True</td>\n",
       "    </tr>\n",
       "    <tr>\n",
       "      <th>2</th>\n",
       "      <td>hhhh</td>\n",
       "      <td>25/09/1998</td>\n",
       "      <td>22.5</td>\n",
       "      <td>False</td>\n",
       "    </tr>\n",
       "    <tr>\n",
       "      <th>3</th>\n",
       "      <td></td>\n",
       "      <td>12/02/2002</td>\n",
       "      <td>2566552.0</td>\n",
       "      <td>True</td>\n",
       "    </tr>\n",
       "    <tr>\n",
       "      <th>4</th>\n",
       "      <td>EAWQaaa</td>\n",
       "      <td>15/09/1997</td>\n",
       "      <td>23.0</td>\n",
       "      <td>False</td>\n",
       "    </tr>\n",
       "  </tbody>\n",
       "</table>\n",
       "</div>"
      ],
      "text/plain": [
       "  company_code date_of_sale  sale_amount  space\n",
       "0         Abcd   12/05/2002      12348.5  False\n",
       "1                16/02/1999     233331.2   True\n",
       "2         hhhh   25/09/1998         22.5  False\n",
       "3                12/02/2002    2566552.0   True\n",
       "4      EAWQaaa   15/09/1997         23.0  False"
      ]
     },
     "execution_count": 69,
     "metadata": {},
     "output_type": "execute_result"
    }
   ],
   "source": [
    "df"
   ]
  },
  {
   "cell_type": "markdown",
   "id": "d968a39f",
   "metadata": {},
   "source": [
    "## 15.Write a Pandas program to get the length of the string present of a given column a DataFrame."
   ]
  },
  {
   "cell_type": "code",
   "execution_count": 70,
   "id": "f9d114d3",
   "metadata": {},
   "outputs": [],
   "source": [
    "df = pd.DataFrame({'company_code':['Abcd','EFGF','hhhh','abcd','EAWQaaa'],'date_of_sale':['12/05/2002','16/02/1999','25/09/1998','12/02/2002','15/09/1997'],\n",
    "                  'sale_amount':[12348.5,233331.2,22.5,2566552.0,23.0]})"
   ]
  },
  {
   "cell_type": "code",
   "execution_count": 71,
   "id": "3c341553",
   "metadata": {},
   "outputs": [
    {
     "data": {
      "text/html": [
       "<div>\n",
       "<style scoped>\n",
       "    .dataframe tbody tr th:only-of-type {\n",
       "        vertical-align: middle;\n",
       "    }\n",
       "\n",
       "    .dataframe tbody tr th {\n",
       "        vertical-align: top;\n",
       "    }\n",
       "\n",
       "    .dataframe thead th {\n",
       "        text-align: right;\n",
       "    }\n",
       "</style>\n",
       "<table border=\"1\" class=\"dataframe\">\n",
       "  <thead>\n",
       "    <tr style=\"text-align: right;\">\n",
       "      <th></th>\n",
       "      <th>company_code</th>\n",
       "      <th>date_of_sale</th>\n",
       "      <th>sale_amount</th>\n",
       "    </tr>\n",
       "  </thead>\n",
       "  <tbody>\n",
       "    <tr>\n",
       "      <th>0</th>\n",
       "      <td>Abcd</td>\n",
       "      <td>12/05/2002</td>\n",
       "      <td>12348.5</td>\n",
       "    </tr>\n",
       "    <tr>\n",
       "      <th>1</th>\n",
       "      <td>EFGF</td>\n",
       "      <td>16/02/1999</td>\n",
       "      <td>233331.2</td>\n",
       "    </tr>\n",
       "    <tr>\n",
       "      <th>2</th>\n",
       "      <td>hhhh</td>\n",
       "      <td>25/09/1998</td>\n",
       "      <td>22.5</td>\n",
       "    </tr>\n",
       "    <tr>\n",
       "      <th>3</th>\n",
       "      <td>abcd</td>\n",
       "      <td>12/02/2002</td>\n",
       "      <td>2566552.0</td>\n",
       "    </tr>\n",
       "    <tr>\n",
       "      <th>4</th>\n",
       "      <td>EAWQaaa</td>\n",
       "      <td>15/09/1997</td>\n",
       "      <td>23.0</td>\n",
       "    </tr>\n",
       "  </tbody>\n",
       "</table>\n",
       "</div>"
      ],
      "text/plain": [
       "  company_code date_of_sale  sale_amount\n",
       "0         Abcd   12/05/2002      12348.5\n",
       "1         EFGF   16/02/1999     233331.2\n",
       "2         hhhh   25/09/1998         22.5\n",
       "3         abcd   12/02/2002    2566552.0\n",
       "4      EAWQaaa   15/09/1997         23.0"
      ]
     },
     "execution_count": 71,
     "metadata": {},
     "output_type": "execute_result"
    }
   ],
   "source": [
    "df"
   ]
  },
  {
   "cell_type": "code",
   "execution_count": 72,
   "id": "9156c765",
   "metadata": {},
   "outputs": [],
   "source": [
    "df['length'] = df.company_code.str.len()"
   ]
  },
  {
   "cell_type": "code",
   "execution_count": 73,
   "id": "ed263870",
   "metadata": {},
   "outputs": [
    {
     "data": {
      "text/html": [
       "<div>\n",
       "<style scoped>\n",
       "    .dataframe tbody tr th:only-of-type {\n",
       "        vertical-align: middle;\n",
       "    }\n",
       "\n",
       "    .dataframe tbody tr th {\n",
       "        vertical-align: top;\n",
       "    }\n",
       "\n",
       "    .dataframe thead th {\n",
       "        text-align: right;\n",
       "    }\n",
       "</style>\n",
       "<table border=\"1\" class=\"dataframe\">\n",
       "  <thead>\n",
       "    <tr style=\"text-align: right;\">\n",
       "      <th></th>\n",
       "      <th>company_code</th>\n",
       "      <th>date_of_sale</th>\n",
       "      <th>sale_amount</th>\n",
       "      <th>length</th>\n",
       "    </tr>\n",
       "  </thead>\n",
       "  <tbody>\n",
       "    <tr>\n",
       "      <th>0</th>\n",
       "      <td>Abcd</td>\n",
       "      <td>12/05/2002</td>\n",
       "      <td>12348.5</td>\n",
       "      <td>4</td>\n",
       "    </tr>\n",
       "    <tr>\n",
       "      <th>1</th>\n",
       "      <td>EFGF</td>\n",
       "      <td>16/02/1999</td>\n",
       "      <td>233331.2</td>\n",
       "      <td>4</td>\n",
       "    </tr>\n",
       "    <tr>\n",
       "      <th>2</th>\n",
       "      <td>hhhh</td>\n",
       "      <td>25/09/1998</td>\n",
       "      <td>22.5</td>\n",
       "      <td>4</td>\n",
       "    </tr>\n",
       "    <tr>\n",
       "      <th>3</th>\n",
       "      <td>abcd</td>\n",
       "      <td>12/02/2002</td>\n",
       "      <td>2566552.0</td>\n",
       "      <td>4</td>\n",
       "    </tr>\n",
       "    <tr>\n",
       "      <th>4</th>\n",
       "      <td>EAWQaaa</td>\n",
       "      <td>15/09/1997</td>\n",
       "      <td>23.0</td>\n",
       "      <td>7</td>\n",
       "    </tr>\n",
       "  </tbody>\n",
       "</table>\n",
       "</div>"
      ],
      "text/plain": [
       "  company_code date_of_sale  sale_amount  length\n",
       "0         Abcd   12/05/2002      12348.5       4\n",
       "1         EFGF   16/02/1999     233331.2       4\n",
       "2         hhhh   25/09/1998         22.5       4\n",
       "3         abcd   12/02/2002    2566552.0       4\n",
       "4      EAWQaaa   15/09/1997         23.0       7"
      ]
     },
     "execution_count": 73,
     "metadata": {},
     "output_type": "execute_result"
    }
   ],
   "source": [
    "df"
   ]
  },
  {
   "cell_type": "markdown",
   "id": "39bd6413",
   "metadata": {},
   "source": [
    "## 16.Write a Pandas program to get the length of the integer of a given column in a DataFrame."
   ]
  },
  {
   "cell_type": "code",
   "execution_count": 74,
   "id": "b361cb67",
   "metadata": {},
   "outputs": [],
   "source": [
    "df = pd.DataFrame({'company_code':['Abcd','EFGF','skfsalf','sdfslew','safsdf'],\n",
    "                  'date_of_sale':['12/05/2002','16/02/1999','25/09/1998','12/02/2022','15/09/1997'],\n",
    "                  'sale_amount':[12348.5,233331.2,22.5,2566552.0,23.0]})"
   ]
  },
  {
   "cell_type": "code",
   "execution_count": 75,
   "id": "7245c58b",
   "metadata": {},
   "outputs": [
    {
     "data": {
      "text/html": [
       "<div>\n",
       "<style scoped>\n",
       "    .dataframe tbody tr th:only-of-type {\n",
       "        vertical-align: middle;\n",
       "    }\n",
       "\n",
       "    .dataframe tbody tr th {\n",
       "        vertical-align: top;\n",
       "    }\n",
       "\n",
       "    .dataframe thead th {\n",
       "        text-align: right;\n",
       "    }\n",
       "</style>\n",
       "<table border=\"1\" class=\"dataframe\">\n",
       "  <thead>\n",
       "    <tr style=\"text-align: right;\">\n",
       "      <th></th>\n",
       "      <th>company_code</th>\n",
       "      <th>date_of_sale</th>\n",
       "      <th>sale_amount</th>\n",
       "    </tr>\n",
       "  </thead>\n",
       "  <tbody>\n",
       "    <tr>\n",
       "      <th>0</th>\n",
       "      <td>Abcd</td>\n",
       "      <td>12/05/2002</td>\n",
       "      <td>12348.5</td>\n",
       "    </tr>\n",
       "    <tr>\n",
       "      <th>1</th>\n",
       "      <td>EFGF</td>\n",
       "      <td>16/02/1999</td>\n",
       "      <td>233331.2</td>\n",
       "    </tr>\n",
       "    <tr>\n",
       "      <th>2</th>\n",
       "      <td>skfsalf</td>\n",
       "      <td>25/09/1998</td>\n",
       "      <td>22.5</td>\n",
       "    </tr>\n",
       "    <tr>\n",
       "      <th>3</th>\n",
       "      <td>sdfslew</td>\n",
       "      <td>12/02/2022</td>\n",
       "      <td>2566552.0</td>\n",
       "    </tr>\n",
       "    <tr>\n",
       "      <th>4</th>\n",
       "      <td>safsdf</td>\n",
       "      <td>15/09/1997</td>\n",
       "      <td>23.0</td>\n",
       "    </tr>\n",
       "  </tbody>\n",
       "</table>\n",
       "</div>"
      ],
      "text/plain": [
       "  company_code date_of_sale  sale_amount\n",
       "0         Abcd   12/05/2002      12348.5\n",
       "1         EFGF   16/02/1999     233331.2\n",
       "2      skfsalf   25/09/1998         22.5\n",
       "3      sdfslew   12/02/2022    2566552.0\n",
       "4       safsdf   15/09/1997         23.0"
      ]
     },
     "execution_count": 75,
     "metadata": {},
     "output_type": "execute_result"
    }
   ],
   "source": [
    "df"
   ]
  },
  {
   "cell_type": "code",
   "execution_count": 76,
   "id": "8dcc2492",
   "metadata": {},
   "outputs": [],
   "source": [
    "df['sale_amount_length'] = df.sale_amount.map(str).apply(len)"
   ]
  },
  {
   "cell_type": "code",
   "execution_count": 77,
   "id": "ee95520b",
   "metadata": {},
   "outputs": [
    {
     "data": {
      "text/html": [
       "<div>\n",
       "<style scoped>\n",
       "    .dataframe tbody tr th:only-of-type {\n",
       "        vertical-align: middle;\n",
       "    }\n",
       "\n",
       "    .dataframe tbody tr th {\n",
       "        vertical-align: top;\n",
       "    }\n",
       "\n",
       "    .dataframe thead th {\n",
       "        text-align: right;\n",
       "    }\n",
       "</style>\n",
       "<table border=\"1\" class=\"dataframe\">\n",
       "  <thead>\n",
       "    <tr style=\"text-align: right;\">\n",
       "      <th></th>\n",
       "      <th>company_code</th>\n",
       "      <th>date_of_sale</th>\n",
       "      <th>sale_amount</th>\n",
       "      <th>sale_amount_length</th>\n",
       "    </tr>\n",
       "  </thead>\n",
       "  <tbody>\n",
       "    <tr>\n",
       "      <th>0</th>\n",
       "      <td>Abcd</td>\n",
       "      <td>12/05/2002</td>\n",
       "      <td>12348.5</td>\n",
       "      <td>7</td>\n",
       "    </tr>\n",
       "    <tr>\n",
       "      <th>1</th>\n",
       "      <td>EFGF</td>\n",
       "      <td>16/02/1999</td>\n",
       "      <td>233331.2</td>\n",
       "      <td>8</td>\n",
       "    </tr>\n",
       "    <tr>\n",
       "      <th>2</th>\n",
       "      <td>skfsalf</td>\n",
       "      <td>25/09/1998</td>\n",
       "      <td>22.5</td>\n",
       "      <td>4</td>\n",
       "    </tr>\n",
       "    <tr>\n",
       "      <th>3</th>\n",
       "      <td>sdfslew</td>\n",
       "      <td>12/02/2022</td>\n",
       "      <td>2566552.0</td>\n",
       "      <td>9</td>\n",
       "    </tr>\n",
       "    <tr>\n",
       "      <th>4</th>\n",
       "      <td>safsdf</td>\n",
       "      <td>15/09/1997</td>\n",
       "      <td>23.0</td>\n",
       "      <td>4</td>\n",
       "    </tr>\n",
       "  </tbody>\n",
       "</table>\n",
       "</div>"
      ],
      "text/plain": [
       "  company_code date_of_sale  sale_amount  sale_amount_length\n",
       "0         Abcd   12/05/2002      12348.5                   7\n",
       "1         EFGF   16/02/1999     233331.2                   8\n",
       "2      skfsalf   25/09/1998         22.5                   4\n",
       "3      sdfslew   12/02/2022    2566552.0                   9\n",
       "4       safsdf   15/09/1997         23.0                   4"
      ]
     },
     "execution_count": 77,
     "metadata": {},
     "output_type": "execute_result"
    }
   ],
   "source": [
    "df"
   ]
  },
  {
   "cell_type": "markdown",
   "id": "c4cb4b14",
   "metadata": {},
   "source": [
    "## 17.Write a Pandas program to check if a specified column starts with a specified string in a given DataFrame."
   ]
  },
  {
   "cell_type": "code",
   "execution_count": 78,
   "id": "ca9263cf",
   "metadata": {},
   "outputs": [],
   "source": [
    "df = pd.DataFrame({'company_code':['Abcd','EFGF','zefsalf','sdfslew','zefsdf'],\n",
    "                  'date_of_sale':['12/05/2002','16/02/1999','25/09/1998','12/02/2022','15/09/1997'],\n",
    "                  'sale_amount':[12348.5,233331.2,22.5,2566552.0,23.0]})"
   ]
  },
  {
   "cell_type": "code",
   "execution_count": 79,
   "id": "2178b5bf",
   "metadata": {},
   "outputs": [
    {
     "data": {
      "text/html": [
       "<div>\n",
       "<style scoped>\n",
       "    .dataframe tbody tr th:only-of-type {\n",
       "        vertical-align: middle;\n",
       "    }\n",
       "\n",
       "    .dataframe tbody tr th {\n",
       "        vertical-align: top;\n",
       "    }\n",
       "\n",
       "    .dataframe thead th {\n",
       "        text-align: right;\n",
       "    }\n",
       "</style>\n",
       "<table border=\"1\" class=\"dataframe\">\n",
       "  <thead>\n",
       "    <tr style=\"text-align: right;\">\n",
       "      <th></th>\n",
       "      <th>company_code</th>\n",
       "      <th>date_of_sale</th>\n",
       "      <th>sale_amount</th>\n",
       "    </tr>\n",
       "  </thead>\n",
       "  <tbody>\n",
       "    <tr>\n",
       "      <th>0</th>\n",
       "      <td>Abcd</td>\n",
       "      <td>12/05/2002</td>\n",
       "      <td>12348.5</td>\n",
       "    </tr>\n",
       "    <tr>\n",
       "      <th>1</th>\n",
       "      <td>EFGF</td>\n",
       "      <td>16/02/1999</td>\n",
       "      <td>233331.2</td>\n",
       "    </tr>\n",
       "    <tr>\n",
       "      <th>2</th>\n",
       "      <td>zefsalf</td>\n",
       "      <td>25/09/1998</td>\n",
       "      <td>22.5</td>\n",
       "    </tr>\n",
       "    <tr>\n",
       "      <th>3</th>\n",
       "      <td>sdfslew</td>\n",
       "      <td>12/02/2022</td>\n",
       "      <td>2566552.0</td>\n",
       "    </tr>\n",
       "    <tr>\n",
       "      <th>4</th>\n",
       "      <td>zefsdf</td>\n",
       "      <td>15/09/1997</td>\n",
       "      <td>23.0</td>\n",
       "    </tr>\n",
       "  </tbody>\n",
       "</table>\n",
       "</div>"
      ],
      "text/plain": [
       "  company_code date_of_sale  sale_amount\n",
       "0         Abcd   12/05/2002      12348.5\n",
       "1         EFGF   16/02/1999     233331.2\n",
       "2      zefsalf   25/09/1998         22.5\n",
       "3      sdfslew   12/02/2022    2566552.0\n",
       "4       zefsdf   15/09/1997         23.0"
      ]
     },
     "execution_count": 79,
     "metadata": {},
     "output_type": "execute_result"
    }
   ],
   "source": [
    "df"
   ]
  },
  {
   "cell_type": "code",
   "execution_count": 80,
   "id": "a095ba1c",
   "metadata": {},
   "outputs": [],
   "source": [
    "df['startwith'] = df.company_code.str.startswith('ze')"
   ]
  },
  {
   "cell_type": "code",
   "execution_count": 81,
   "id": "7e72d1c3",
   "metadata": {},
   "outputs": [
    {
     "data": {
      "text/html": [
       "<div>\n",
       "<style scoped>\n",
       "    .dataframe tbody tr th:only-of-type {\n",
       "        vertical-align: middle;\n",
       "    }\n",
       "\n",
       "    .dataframe tbody tr th {\n",
       "        vertical-align: top;\n",
       "    }\n",
       "\n",
       "    .dataframe thead th {\n",
       "        text-align: right;\n",
       "    }\n",
       "</style>\n",
       "<table border=\"1\" class=\"dataframe\">\n",
       "  <thead>\n",
       "    <tr style=\"text-align: right;\">\n",
       "      <th></th>\n",
       "      <th>company_code</th>\n",
       "      <th>date_of_sale</th>\n",
       "      <th>sale_amount</th>\n",
       "      <th>startwith</th>\n",
       "    </tr>\n",
       "  </thead>\n",
       "  <tbody>\n",
       "    <tr>\n",
       "      <th>0</th>\n",
       "      <td>Abcd</td>\n",
       "      <td>12/05/2002</td>\n",
       "      <td>12348.5</td>\n",
       "      <td>False</td>\n",
       "    </tr>\n",
       "    <tr>\n",
       "      <th>1</th>\n",
       "      <td>EFGF</td>\n",
       "      <td>16/02/1999</td>\n",
       "      <td>233331.2</td>\n",
       "      <td>False</td>\n",
       "    </tr>\n",
       "    <tr>\n",
       "      <th>2</th>\n",
       "      <td>zefsalf</td>\n",
       "      <td>25/09/1998</td>\n",
       "      <td>22.5</td>\n",
       "      <td>True</td>\n",
       "    </tr>\n",
       "    <tr>\n",
       "      <th>3</th>\n",
       "      <td>sdfslew</td>\n",
       "      <td>12/02/2022</td>\n",
       "      <td>2566552.0</td>\n",
       "      <td>False</td>\n",
       "    </tr>\n",
       "    <tr>\n",
       "      <th>4</th>\n",
       "      <td>zefsdf</td>\n",
       "      <td>15/09/1997</td>\n",
       "      <td>23.0</td>\n",
       "      <td>True</td>\n",
       "    </tr>\n",
       "  </tbody>\n",
       "</table>\n",
       "</div>"
      ],
      "text/plain": [
       "  company_code date_of_sale  sale_amount  startwith\n",
       "0         Abcd   12/05/2002      12348.5      False\n",
       "1         EFGF   16/02/1999     233331.2      False\n",
       "2      zefsalf   25/09/1998         22.5       True\n",
       "3      sdfslew   12/02/2022    2566552.0      False\n",
       "4       zefsdf   15/09/1997         23.0       True"
      ]
     },
     "execution_count": 81,
     "metadata": {},
     "output_type": "execute_result"
    }
   ],
   "source": [
    "df"
   ]
  },
  {
   "cell_type": "markdown",
   "id": "effab40f",
   "metadata": {},
   "source": [
    "## 18.Write a Pandas program to swap the cases of a specified character column in a given DataFrame."
   ]
  },
  {
   "cell_type": "code",
   "execution_count": 82,
   "id": "fa92a230",
   "metadata": {},
   "outputs": [],
   "source": [
    "df = pd.DataFrame({'company_code':['Abcd','EFGF','zefsalf','sdfslew','zefsdf'],\n",
    "                  'date_of_sale':['12/05/2002','16/02/1999','25/09/1998','12/02/2022','15/09/1997'],\n",
    "                  'sale_amount':[12348.5,233331.2,22.5,2566552.0,23.0]})"
   ]
  },
  {
   "cell_type": "code",
   "execution_count": 83,
   "id": "b7390eda",
   "metadata": {},
   "outputs": [
    {
     "data": {
      "text/html": [
       "<div>\n",
       "<style scoped>\n",
       "    .dataframe tbody tr th:only-of-type {\n",
       "        vertical-align: middle;\n",
       "    }\n",
       "\n",
       "    .dataframe tbody tr th {\n",
       "        vertical-align: top;\n",
       "    }\n",
       "\n",
       "    .dataframe thead th {\n",
       "        text-align: right;\n",
       "    }\n",
       "</style>\n",
       "<table border=\"1\" class=\"dataframe\">\n",
       "  <thead>\n",
       "    <tr style=\"text-align: right;\">\n",
       "      <th></th>\n",
       "      <th>company_code</th>\n",
       "      <th>date_of_sale</th>\n",
       "      <th>sale_amount</th>\n",
       "    </tr>\n",
       "  </thead>\n",
       "  <tbody>\n",
       "    <tr>\n",
       "      <th>0</th>\n",
       "      <td>Abcd</td>\n",
       "      <td>12/05/2002</td>\n",
       "      <td>12348.5</td>\n",
       "    </tr>\n",
       "    <tr>\n",
       "      <th>1</th>\n",
       "      <td>EFGF</td>\n",
       "      <td>16/02/1999</td>\n",
       "      <td>233331.2</td>\n",
       "    </tr>\n",
       "    <tr>\n",
       "      <th>2</th>\n",
       "      <td>zefsalf</td>\n",
       "      <td>25/09/1998</td>\n",
       "      <td>22.5</td>\n",
       "    </tr>\n",
       "    <tr>\n",
       "      <th>3</th>\n",
       "      <td>sdfslew</td>\n",
       "      <td>12/02/2022</td>\n",
       "      <td>2566552.0</td>\n",
       "    </tr>\n",
       "    <tr>\n",
       "      <th>4</th>\n",
       "      <td>zefsdf</td>\n",
       "      <td>15/09/1997</td>\n",
       "      <td>23.0</td>\n",
       "    </tr>\n",
       "  </tbody>\n",
       "</table>\n",
       "</div>"
      ],
      "text/plain": [
       "  company_code date_of_sale  sale_amount\n",
       "0         Abcd   12/05/2002      12348.5\n",
       "1         EFGF   16/02/1999     233331.2\n",
       "2      zefsalf   25/09/1998         22.5\n",
       "3      sdfslew   12/02/2022    2566552.0\n",
       "4       zefsdf   15/09/1997         23.0"
      ]
     },
     "execution_count": 83,
     "metadata": {},
     "output_type": "execute_result"
    }
   ],
   "source": [
    "df"
   ]
  },
  {
   "cell_type": "code",
   "execution_count": 84,
   "id": "8e9c9579",
   "metadata": {},
   "outputs": [],
   "source": [
    "df['swap'] = list(map(lambda x:x.swapcase(),df.company_code))"
   ]
  },
  {
   "cell_type": "code",
   "execution_count": 85,
   "id": "734dba2b",
   "metadata": {},
   "outputs": [
    {
     "data": {
      "text/html": [
       "<div>\n",
       "<style scoped>\n",
       "    .dataframe tbody tr th:only-of-type {\n",
       "        vertical-align: middle;\n",
       "    }\n",
       "\n",
       "    .dataframe tbody tr th {\n",
       "        vertical-align: top;\n",
       "    }\n",
       "\n",
       "    .dataframe thead th {\n",
       "        text-align: right;\n",
       "    }\n",
       "</style>\n",
       "<table border=\"1\" class=\"dataframe\">\n",
       "  <thead>\n",
       "    <tr style=\"text-align: right;\">\n",
       "      <th></th>\n",
       "      <th>company_code</th>\n",
       "      <th>date_of_sale</th>\n",
       "      <th>sale_amount</th>\n",
       "      <th>swap</th>\n",
       "    </tr>\n",
       "  </thead>\n",
       "  <tbody>\n",
       "    <tr>\n",
       "      <th>0</th>\n",
       "      <td>Abcd</td>\n",
       "      <td>12/05/2002</td>\n",
       "      <td>12348.5</td>\n",
       "      <td>aBCD</td>\n",
       "    </tr>\n",
       "    <tr>\n",
       "      <th>1</th>\n",
       "      <td>EFGF</td>\n",
       "      <td>16/02/1999</td>\n",
       "      <td>233331.2</td>\n",
       "      <td>efgf</td>\n",
       "    </tr>\n",
       "    <tr>\n",
       "      <th>2</th>\n",
       "      <td>zefsalf</td>\n",
       "      <td>25/09/1998</td>\n",
       "      <td>22.5</td>\n",
       "      <td>ZEFSALF</td>\n",
       "    </tr>\n",
       "    <tr>\n",
       "      <th>3</th>\n",
       "      <td>sdfslew</td>\n",
       "      <td>12/02/2022</td>\n",
       "      <td>2566552.0</td>\n",
       "      <td>SDFSLEW</td>\n",
       "    </tr>\n",
       "    <tr>\n",
       "      <th>4</th>\n",
       "      <td>zefsdf</td>\n",
       "      <td>15/09/1997</td>\n",
       "      <td>23.0</td>\n",
       "      <td>ZEFSDF</td>\n",
       "    </tr>\n",
       "  </tbody>\n",
       "</table>\n",
       "</div>"
      ],
      "text/plain": [
       "  company_code date_of_sale  sale_amount     swap\n",
       "0         Abcd   12/05/2002      12348.5     aBCD\n",
       "1         EFGF   16/02/1999     233331.2     efgf\n",
       "2      zefsalf   25/09/1998         22.5  ZEFSALF\n",
       "3      sdfslew   12/02/2022    2566552.0  SDFSLEW\n",
       "4       zefsdf   15/09/1997         23.0   ZEFSDF"
      ]
     },
     "execution_count": 85,
     "metadata": {},
     "output_type": "execute_result"
    }
   ],
   "source": [
    "df"
   ]
  },
  {
   "cell_type": "markdown",
   "id": "1b767ee0",
   "metadata": {},
   "source": [
    "## 19.Write a Pandas program to convert a specified character column in upper/lower cases in a given DataFrame."
   ]
  },
  {
   "cell_type": "code",
   "execution_count": 86,
   "id": "4e0cbd23",
   "metadata": {},
   "outputs": [],
   "source": [
    "df = pd.DataFrame({'company_code':['Abcd','EFGF','skfsalf','sdfslew','safsdf'],\n",
    "                  'date_of_sale':['12/05/2002','16/02/1999','25/09/1998','12/02/2022','15/09/1997'],\n",
    "                  'sale_amount':[12348.5,233331.2,22.5,2566552.0,23.0]})"
   ]
  },
  {
   "cell_type": "code",
   "execution_count": 87,
   "id": "26248081",
   "metadata": {},
   "outputs": [
    {
     "data": {
      "text/html": [
       "<div>\n",
       "<style scoped>\n",
       "    .dataframe tbody tr th:only-of-type {\n",
       "        vertical-align: middle;\n",
       "    }\n",
       "\n",
       "    .dataframe tbody tr th {\n",
       "        vertical-align: top;\n",
       "    }\n",
       "\n",
       "    .dataframe thead th {\n",
       "        text-align: right;\n",
       "    }\n",
       "</style>\n",
       "<table border=\"1\" class=\"dataframe\">\n",
       "  <thead>\n",
       "    <tr style=\"text-align: right;\">\n",
       "      <th></th>\n",
       "      <th>company_code</th>\n",
       "      <th>date_of_sale</th>\n",
       "      <th>sale_amount</th>\n",
       "    </tr>\n",
       "  </thead>\n",
       "  <tbody>\n",
       "    <tr>\n",
       "      <th>0</th>\n",
       "      <td>Abcd</td>\n",
       "      <td>12/05/2002</td>\n",
       "      <td>12348.5</td>\n",
       "    </tr>\n",
       "    <tr>\n",
       "      <th>1</th>\n",
       "      <td>EFGF</td>\n",
       "      <td>16/02/1999</td>\n",
       "      <td>233331.2</td>\n",
       "    </tr>\n",
       "    <tr>\n",
       "      <th>2</th>\n",
       "      <td>skfsalf</td>\n",
       "      <td>25/09/1998</td>\n",
       "      <td>22.5</td>\n",
       "    </tr>\n",
       "    <tr>\n",
       "      <th>3</th>\n",
       "      <td>sdfslew</td>\n",
       "      <td>12/02/2022</td>\n",
       "      <td>2566552.0</td>\n",
       "    </tr>\n",
       "    <tr>\n",
       "      <th>4</th>\n",
       "      <td>safsdf</td>\n",
       "      <td>15/09/1997</td>\n",
       "      <td>23.0</td>\n",
       "    </tr>\n",
       "  </tbody>\n",
       "</table>\n",
       "</div>"
      ],
      "text/plain": [
       "  company_code date_of_sale  sale_amount\n",
       "0         Abcd   12/05/2002      12348.5\n",
       "1         EFGF   16/02/1999     233331.2\n",
       "2      skfsalf   25/09/1998         22.5\n",
       "3      sdfslew   12/02/2022    2566552.0\n",
       "4       safsdf   15/09/1997         23.0"
      ]
     },
     "execution_count": 87,
     "metadata": {},
     "output_type": "execute_result"
    }
   ],
   "source": [
    "df"
   ]
  },
  {
   "cell_type": "code",
   "execution_count": 88,
   "id": "e476853a",
   "metadata": {},
   "outputs": [],
   "source": [
    "df['upper'] = list(map(lambda x:x.upper(),df.company_code))"
   ]
  },
  {
   "cell_type": "code",
   "execution_count": 89,
   "id": "51348b76",
   "metadata": {},
   "outputs": [
    {
     "data": {
      "text/html": [
       "<div>\n",
       "<style scoped>\n",
       "    .dataframe tbody tr th:only-of-type {\n",
       "        vertical-align: middle;\n",
       "    }\n",
       "\n",
       "    .dataframe tbody tr th {\n",
       "        vertical-align: top;\n",
       "    }\n",
       "\n",
       "    .dataframe thead th {\n",
       "        text-align: right;\n",
       "    }\n",
       "</style>\n",
       "<table border=\"1\" class=\"dataframe\">\n",
       "  <thead>\n",
       "    <tr style=\"text-align: right;\">\n",
       "      <th></th>\n",
       "      <th>company_code</th>\n",
       "      <th>date_of_sale</th>\n",
       "      <th>sale_amount</th>\n",
       "      <th>upper</th>\n",
       "    </tr>\n",
       "  </thead>\n",
       "  <tbody>\n",
       "    <tr>\n",
       "      <th>0</th>\n",
       "      <td>Abcd</td>\n",
       "      <td>12/05/2002</td>\n",
       "      <td>12348.5</td>\n",
       "      <td>ABCD</td>\n",
       "    </tr>\n",
       "    <tr>\n",
       "      <th>1</th>\n",
       "      <td>EFGF</td>\n",
       "      <td>16/02/1999</td>\n",
       "      <td>233331.2</td>\n",
       "      <td>EFGF</td>\n",
       "    </tr>\n",
       "    <tr>\n",
       "      <th>2</th>\n",
       "      <td>skfsalf</td>\n",
       "      <td>25/09/1998</td>\n",
       "      <td>22.5</td>\n",
       "      <td>SKFSALF</td>\n",
       "    </tr>\n",
       "    <tr>\n",
       "      <th>3</th>\n",
       "      <td>sdfslew</td>\n",
       "      <td>12/02/2022</td>\n",
       "      <td>2566552.0</td>\n",
       "      <td>SDFSLEW</td>\n",
       "    </tr>\n",
       "    <tr>\n",
       "      <th>4</th>\n",
       "      <td>safsdf</td>\n",
       "      <td>15/09/1997</td>\n",
       "      <td>23.0</td>\n",
       "      <td>SAFSDF</td>\n",
       "    </tr>\n",
       "  </tbody>\n",
       "</table>\n",
       "</div>"
      ],
      "text/plain": [
       "  company_code date_of_sale  sale_amount    upper\n",
       "0         Abcd   12/05/2002      12348.5     ABCD\n",
       "1         EFGF   16/02/1999     233331.2     EFGF\n",
       "2      skfsalf   25/09/1998         22.5  SKFSALF\n",
       "3      sdfslew   12/02/2022    2566552.0  SDFSLEW\n",
       "4       safsdf   15/09/1997         23.0   SAFSDF"
      ]
     },
     "execution_count": 89,
     "metadata": {},
     "output_type": "execute_result"
    }
   ],
   "source": [
    "df"
   ]
  },
  {
   "cell_type": "code",
   "execution_count": 90,
   "id": "e30cbce1",
   "metadata": {},
   "outputs": [],
   "source": [
    "df['lower'] = list(map(lambda x:x.lower(),df.company_code))"
   ]
  },
  {
   "cell_type": "code",
   "execution_count": 91,
   "id": "dbab01eb",
   "metadata": {},
   "outputs": [
    {
     "data": {
      "text/html": [
       "<div>\n",
       "<style scoped>\n",
       "    .dataframe tbody tr th:only-of-type {\n",
       "        vertical-align: middle;\n",
       "    }\n",
       "\n",
       "    .dataframe tbody tr th {\n",
       "        vertical-align: top;\n",
       "    }\n",
       "\n",
       "    .dataframe thead th {\n",
       "        text-align: right;\n",
       "    }\n",
       "</style>\n",
       "<table border=\"1\" class=\"dataframe\">\n",
       "  <thead>\n",
       "    <tr style=\"text-align: right;\">\n",
       "      <th></th>\n",
       "      <th>company_code</th>\n",
       "      <th>date_of_sale</th>\n",
       "      <th>sale_amount</th>\n",
       "      <th>upper</th>\n",
       "      <th>lower</th>\n",
       "    </tr>\n",
       "  </thead>\n",
       "  <tbody>\n",
       "    <tr>\n",
       "      <th>0</th>\n",
       "      <td>Abcd</td>\n",
       "      <td>12/05/2002</td>\n",
       "      <td>12348.5</td>\n",
       "      <td>ABCD</td>\n",
       "      <td>abcd</td>\n",
       "    </tr>\n",
       "    <tr>\n",
       "      <th>1</th>\n",
       "      <td>EFGF</td>\n",
       "      <td>16/02/1999</td>\n",
       "      <td>233331.2</td>\n",
       "      <td>EFGF</td>\n",
       "      <td>efgf</td>\n",
       "    </tr>\n",
       "    <tr>\n",
       "      <th>2</th>\n",
       "      <td>skfsalf</td>\n",
       "      <td>25/09/1998</td>\n",
       "      <td>22.5</td>\n",
       "      <td>SKFSALF</td>\n",
       "      <td>skfsalf</td>\n",
       "    </tr>\n",
       "    <tr>\n",
       "      <th>3</th>\n",
       "      <td>sdfslew</td>\n",
       "      <td>12/02/2022</td>\n",
       "      <td>2566552.0</td>\n",
       "      <td>SDFSLEW</td>\n",
       "      <td>sdfslew</td>\n",
       "    </tr>\n",
       "    <tr>\n",
       "      <th>4</th>\n",
       "      <td>safsdf</td>\n",
       "      <td>15/09/1997</td>\n",
       "      <td>23.0</td>\n",
       "      <td>SAFSDF</td>\n",
       "      <td>safsdf</td>\n",
       "    </tr>\n",
       "  </tbody>\n",
       "</table>\n",
       "</div>"
      ],
      "text/plain": [
       "  company_code date_of_sale  sale_amount    upper    lower\n",
       "0         Abcd   12/05/2002      12348.5     ABCD     abcd\n",
       "1         EFGF   16/02/1999     233331.2     EFGF     efgf\n",
       "2      skfsalf   25/09/1998         22.5  SKFSALF  skfsalf\n",
       "3      sdfslew   12/02/2022    2566552.0  SDFSLEW  sdfslew\n",
       "4       safsdf   15/09/1997         23.0   SAFSDF   safsdf"
      ]
     },
     "execution_count": 91,
     "metadata": {},
     "output_type": "execute_result"
    }
   ],
   "source": [
    "df"
   ]
  },
  {
   "cell_type": "markdown",
   "id": "1af31fdd",
   "metadata": {},
   "source": [
    "## 20.Write a Pandas program to convert a specified character column in title cases in a given DataFrame."
   ]
  },
  {
   "cell_type": "code",
   "execution_count": 92,
   "id": "0b867ca4",
   "metadata": {},
   "outputs": [],
   "source": [
    "df = pd.DataFrame({'company_code':['Abcd','EFGF','skfsalf','sdfslew','safsdf'],\n",
    "                  'date_of_sale':['12/05/2002','16/02/1999','25/09/1998','12/02/2022','15/09/1997'],\n",
    "                  'sale_amount':[12348.5,233331.2,22.5,2566552.0,23.0]})"
   ]
  },
  {
   "cell_type": "code",
   "execution_count": 93,
   "id": "da779550",
   "metadata": {},
   "outputs": [
    {
     "data": {
      "text/html": [
       "<div>\n",
       "<style scoped>\n",
       "    .dataframe tbody tr th:only-of-type {\n",
       "        vertical-align: middle;\n",
       "    }\n",
       "\n",
       "    .dataframe tbody tr th {\n",
       "        vertical-align: top;\n",
       "    }\n",
       "\n",
       "    .dataframe thead th {\n",
       "        text-align: right;\n",
       "    }\n",
       "</style>\n",
       "<table border=\"1\" class=\"dataframe\">\n",
       "  <thead>\n",
       "    <tr style=\"text-align: right;\">\n",
       "      <th></th>\n",
       "      <th>company_code</th>\n",
       "      <th>date_of_sale</th>\n",
       "      <th>sale_amount</th>\n",
       "    </tr>\n",
       "  </thead>\n",
       "  <tbody>\n",
       "    <tr>\n",
       "      <th>0</th>\n",
       "      <td>Abcd</td>\n",
       "      <td>12/05/2002</td>\n",
       "      <td>12348.5</td>\n",
       "    </tr>\n",
       "    <tr>\n",
       "      <th>1</th>\n",
       "      <td>EFGF</td>\n",
       "      <td>16/02/1999</td>\n",
       "      <td>233331.2</td>\n",
       "    </tr>\n",
       "    <tr>\n",
       "      <th>2</th>\n",
       "      <td>skfsalf</td>\n",
       "      <td>25/09/1998</td>\n",
       "      <td>22.5</td>\n",
       "    </tr>\n",
       "    <tr>\n",
       "      <th>3</th>\n",
       "      <td>sdfslew</td>\n",
       "      <td>12/02/2022</td>\n",
       "      <td>2566552.0</td>\n",
       "    </tr>\n",
       "    <tr>\n",
       "      <th>4</th>\n",
       "      <td>safsdf</td>\n",
       "      <td>15/09/1997</td>\n",
       "      <td>23.0</td>\n",
       "    </tr>\n",
       "  </tbody>\n",
       "</table>\n",
       "</div>"
      ],
      "text/plain": [
       "  company_code date_of_sale  sale_amount\n",
       "0         Abcd   12/05/2002      12348.5\n",
       "1         EFGF   16/02/1999     233331.2\n",
       "2      skfsalf   25/09/1998         22.5\n",
       "3      sdfslew   12/02/2022    2566552.0\n",
       "4       safsdf   15/09/1997         23.0"
      ]
     },
     "execution_count": 93,
     "metadata": {},
     "output_type": "execute_result"
    }
   ],
   "source": [
    "df"
   ]
  },
  {
   "cell_type": "code",
   "execution_count": 94,
   "id": "fa609b62",
   "metadata": {},
   "outputs": [],
   "source": [
    "df['Title'] = list(map(lambda x:x.title(),df.company_code))"
   ]
  },
  {
   "cell_type": "code",
   "execution_count": 95,
   "id": "b9a2641d",
   "metadata": {},
   "outputs": [
    {
     "data": {
      "text/html": [
       "<div>\n",
       "<style scoped>\n",
       "    .dataframe tbody tr th:only-of-type {\n",
       "        vertical-align: middle;\n",
       "    }\n",
       "\n",
       "    .dataframe tbody tr th {\n",
       "        vertical-align: top;\n",
       "    }\n",
       "\n",
       "    .dataframe thead th {\n",
       "        text-align: right;\n",
       "    }\n",
       "</style>\n",
       "<table border=\"1\" class=\"dataframe\">\n",
       "  <thead>\n",
       "    <tr style=\"text-align: right;\">\n",
       "      <th></th>\n",
       "      <th>company_code</th>\n",
       "      <th>date_of_sale</th>\n",
       "      <th>sale_amount</th>\n",
       "      <th>Title</th>\n",
       "    </tr>\n",
       "  </thead>\n",
       "  <tbody>\n",
       "    <tr>\n",
       "      <th>0</th>\n",
       "      <td>Abcd</td>\n",
       "      <td>12/05/2002</td>\n",
       "      <td>12348.5</td>\n",
       "      <td>Abcd</td>\n",
       "    </tr>\n",
       "    <tr>\n",
       "      <th>1</th>\n",
       "      <td>EFGF</td>\n",
       "      <td>16/02/1999</td>\n",
       "      <td>233331.2</td>\n",
       "      <td>Efgf</td>\n",
       "    </tr>\n",
       "    <tr>\n",
       "      <th>2</th>\n",
       "      <td>skfsalf</td>\n",
       "      <td>25/09/1998</td>\n",
       "      <td>22.5</td>\n",
       "      <td>Skfsalf</td>\n",
       "    </tr>\n",
       "    <tr>\n",
       "      <th>3</th>\n",
       "      <td>sdfslew</td>\n",
       "      <td>12/02/2022</td>\n",
       "      <td>2566552.0</td>\n",
       "      <td>Sdfslew</td>\n",
       "    </tr>\n",
       "    <tr>\n",
       "      <th>4</th>\n",
       "      <td>safsdf</td>\n",
       "      <td>15/09/1997</td>\n",
       "      <td>23.0</td>\n",
       "      <td>Safsdf</td>\n",
       "    </tr>\n",
       "  </tbody>\n",
       "</table>\n",
       "</div>"
      ],
      "text/plain": [
       "  company_code date_of_sale  sale_amount    Title\n",
       "0         Abcd   12/05/2002      12348.5     Abcd\n",
       "1         EFGF   16/02/1999     233331.2     Efgf\n",
       "2      skfsalf   25/09/1998         22.5  Skfsalf\n",
       "3      sdfslew   12/02/2022    2566552.0  Sdfslew\n",
       "4       safsdf   15/09/1997         23.0   Safsdf"
      ]
     },
     "execution_count": 95,
     "metadata": {},
     "output_type": "execute_result"
    }
   ],
   "source": [
    "df"
   ]
  },
  {
   "cell_type": "markdown",
   "id": "a1d836b2",
   "metadata": {},
   "source": [
    "## 21.Write a Pandas program to replace more than one value with other values in a given DataFrame."
   ]
  },
  {
   "cell_type": "code",
   "execution_count": 96,
   "id": "5a0f524e",
   "metadata": {},
   "outputs": [],
   "source": [
    "df = pd.DataFrame({'company_code':['A','B','C','D','A'],\n",
    "                  'date_of_sale':['12/05/2002','16/02/1999','25/09/1998','12/02/2022','15/09/1997'],\n",
    "                  'sale_amount':[12348.5,233331.2,22.5,2566552.0,23.0]})"
   ]
  },
  {
   "cell_type": "code",
   "execution_count": 97,
   "id": "7952b600",
   "metadata": {},
   "outputs": [
    {
     "data": {
      "text/html": [
       "<div>\n",
       "<style scoped>\n",
       "    .dataframe tbody tr th:only-of-type {\n",
       "        vertical-align: middle;\n",
       "    }\n",
       "\n",
       "    .dataframe tbody tr th {\n",
       "        vertical-align: top;\n",
       "    }\n",
       "\n",
       "    .dataframe thead th {\n",
       "        text-align: right;\n",
       "    }\n",
       "</style>\n",
       "<table border=\"1\" class=\"dataframe\">\n",
       "  <thead>\n",
       "    <tr style=\"text-align: right;\">\n",
       "      <th></th>\n",
       "      <th>company_code</th>\n",
       "      <th>date_of_sale</th>\n",
       "      <th>sale_amount</th>\n",
       "    </tr>\n",
       "  </thead>\n",
       "  <tbody>\n",
       "    <tr>\n",
       "      <th>0</th>\n",
       "      <td>A</td>\n",
       "      <td>12/05/2002</td>\n",
       "      <td>12348.5</td>\n",
       "    </tr>\n",
       "    <tr>\n",
       "      <th>1</th>\n",
       "      <td>B</td>\n",
       "      <td>16/02/1999</td>\n",
       "      <td>233331.2</td>\n",
       "    </tr>\n",
       "    <tr>\n",
       "      <th>2</th>\n",
       "      <td>C</td>\n",
       "      <td>25/09/1998</td>\n",
       "      <td>22.5</td>\n",
       "    </tr>\n",
       "    <tr>\n",
       "      <th>3</th>\n",
       "      <td>D</td>\n",
       "      <td>12/02/2022</td>\n",
       "      <td>2566552.0</td>\n",
       "    </tr>\n",
       "    <tr>\n",
       "      <th>4</th>\n",
       "      <td>A</td>\n",
       "      <td>15/09/1997</td>\n",
       "      <td>23.0</td>\n",
       "    </tr>\n",
       "  </tbody>\n",
       "</table>\n",
       "</div>"
      ],
      "text/plain": [
       "  company_code date_of_sale  sale_amount\n",
       "0            A   12/05/2002      12348.5\n",
       "1            B   16/02/1999     233331.2\n",
       "2            C   25/09/1998         22.5\n",
       "3            D   12/02/2022    2566552.0\n",
       "4            A   15/09/1997         23.0"
      ]
     },
     "execution_count": 97,
     "metadata": {},
     "output_type": "execute_result"
    }
   ],
   "source": [
    "df"
   ]
  },
  {
   "cell_type": "code",
   "execution_count": 98,
   "id": "e2a6226a",
   "metadata": {},
   "outputs": [],
   "source": [
    "df = df.replace('A','C')"
   ]
  },
  {
   "cell_type": "code",
   "execution_count": 99,
   "id": "a1a41d93",
   "metadata": {},
   "outputs": [
    {
     "data": {
      "text/html": [
       "<div>\n",
       "<style scoped>\n",
       "    .dataframe tbody tr th:only-of-type {\n",
       "        vertical-align: middle;\n",
       "    }\n",
       "\n",
       "    .dataframe tbody tr th {\n",
       "        vertical-align: top;\n",
       "    }\n",
       "\n",
       "    .dataframe thead th {\n",
       "        text-align: right;\n",
       "    }\n",
       "</style>\n",
       "<table border=\"1\" class=\"dataframe\">\n",
       "  <thead>\n",
       "    <tr style=\"text-align: right;\">\n",
       "      <th></th>\n",
       "      <th>company_code</th>\n",
       "      <th>date_of_sale</th>\n",
       "      <th>sale_amount</th>\n",
       "    </tr>\n",
       "  </thead>\n",
       "  <tbody>\n",
       "    <tr>\n",
       "      <th>0</th>\n",
       "      <td>C</td>\n",
       "      <td>12/05/2002</td>\n",
       "      <td>12348.5</td>\n",
       "    </tr>\n",
       "    <tr>\n",
       "      <th>1</th>\n",
       "      <td>B</td>\n",
       "      <td>16/02/1999</td>\n",
       "      <td>233331.2</td>\n",
       "    </tr>\n",
       "    <tr>\n",
       "      <th>2</th>\n",
       "      <td>C</td>\n",
       "      <td>25/09/1998</td>\n",
       "      <td>22.5</td>\n",
       "    </tr>\n",
       "    <tr>\n",
       "      <th>3</th>\n",
       "      <td>D</td>\n",
       "      <td>12/02/2022</td>\n",
       "      <td>2566552.0</td>\n",
       "    </tr>\n",
       "    <tr>\n",
       "      <th>4</th>\n",
       "      <td>C</td>\n",
       "      <td>15/09/1997</td>\n",
       "      <td>23.0</td>\n",
       "    </tr>\n",
       "  </tbody>\n",
       "</table>\n",
       "</div>"
      ],
      "text/plain": [
       "  company_code date_of_sale  sale_amount\n",
       "0            C   12/05/2002      12348.5\n",
       "1            B   16/02/1999     233331.2\n",
       "2            C   25/09/1998         22.5\n",
       "3            D   12/02/2022    2566552.0\n",
       "4            C   15/09/1997         23.0"
      ]
     },
     "execution_count": 99,
     "metadata": {},
     "output_type": "execute_result"
    }
   ],
   "source": [
    "df"
   ]
  },
  {
   "cell_type": "markdown",
   "id": "64253b76",
   "metadata": {},
   "source": [
    "## 22.Write a Pandas program to replace more than one value with other values in a given dataframe."
   ]
  },
  {
   "cell_type": "code",
   "execution_count": 100,
   "id": "5f435028",
   "metadata": {},
   "outputs": [],
   "source": [
    "df = pd.DataFrame({'company_code':['A','B','C','D','A'],\n",
    "                  'date_of_sale':['12/05/2002','16/02/1999','25/09/1998','12/02/2022','15/09/1997'],\n",
    "                  'sale_amount':[12348.5,233331.2,22.5,2566552.0,23.0]})"
   ]
  },
  {
   "cell_type": "code",
   "execution_count": 101,
   "id": "3e0840b4",
   "metadata": {},
   "outputs": [
    {
     "data": {
      "text/html": [
       "<div>\n",
       "<style scoped>\n",
       "    .dataframe tbody tr th:only-of-type {\n",
       "        vertical-align: middle;\n",
       "    }\n",
       "\n",
       "    .dataframe tbody tr th {\n",
       "        vertical-align: top;\n",
       "    }\n",
       "\n",
       "    .dataframe thead th {\n",
       "        text-align: right;\n",
       "    }\n",
       "</style>\n",
       "<table border=\"1\" class=\"dataframe\">\n",
       "  <thead>\n",
       "    <tr style=\"text-align: right;\">\n",
       "      <th></th>\n",
       "      <th>company_code</th>\n",
       "      <th>date_of_sale</th>\n",
       "      <th>sale_amount</th>\n",
       "    </tr>\n",
       "  </thead>\n",
       "  <tbody>\n",
       "    <tr>\n",
       "      <th>0</th>\n",
       "      <td>A</td>\n",
       "      <td>12/05/2002</td>\n",
       "      <td>12348.5</td>\n",
       "    </tr>\n",
       "    <tr>\n",
       "      <th>1</th>\n",
       "      <td>B</td>\n",
       "      <td>16/02/1999</td>\n",
       "      <td>233331.2</td>\n",
       "    </tr>\n",
       "    <tr>\n",
       "      <th>2</th>\n",
       "      <td>C</td>\n",
       "      <td>25/09/1998</td>\n",
       "      <td>22.5</td>\n",
       "    </tr>\n",
       "    <tr>\n",
       "      <th>3</th>\n",
       "      <td>D</td>\n",
       "      <td>12/02/2022</td>\n",
       "      <td>2566552.0</td>\n",
       "    </tr>\n",
       "    <tr>\n",
       "      <th>4</th>\n",
       "      <td>A</td>\n",
       "      <td>15/09/1997</td>\n",
       "      <td>23.0</td>\n",
       "    </tr>\n",
       "  </tbody>\n",
       "</table>\n",
       "</div>"
      ],
      "text/plain": [
       "  company_code date_of_sale  sale_amount\n",
       "0            A   12/05/2002      12348.5\n",
       "1            B   16/02/1999     233331.2\n",
       "2            C   25/09/1998         22.5\n",
       "3            D   12/02/2022    2566552.0\n",
       "4            A   15/09/1997         23.0"
      ]
     },
     "execution_count": 101,
     "metadata": {},
     "output_type": "execute_result"
    }
   ],
   "source": [
    "df"
   ]
  },
  {
   "cell_type": "code",
   "execution_count": 106,
   "id": "7ebb446b",
   "metadata": {},
   "outputs": [],
   "source": [
    "df = df.replace([\"A\",\"C\"],[\"X\",\"Y\"])"
   ]
  },
  {
   "cell_type": "code",
   "execution_count": 107,
   "id": "452a92eb",
   "metadata": {},
   "outputs": [
    {
     "data": {
      "text/html": [
       "<div>\n",
       "<style scoped>\n",
       "    .dataframe tbody tr th:only-of-type {\n",
       "        vertical-align: middle;\n",
       "    }\n",
       "\n",
       "    .dataframe tbody tr th {\n",
       "        vertical-align: top;\n",
       "    }\n",
       "\n",
       "    .dataframe thead th {\n",
       "        text-align: right;\n",
       "    }\n",
       "</style>\n",
       "<table border=\"1\" class=\"dataframe\">\n",
       "  <thead>\n",
       "    <tr style=\"text-align: right;\">\n",
       "      <th></th>\n",
       "      <th>company_code</th>\n",
       "      <th>date_of_sale</th>\n",
       "      <th>sale_amount</th>\n",
       "    </tr>\n",
       "  </thead>\n",
       "  <tbody>\n",
       "    <tr>\n",
       "      <th>0</th>\n",
       "      <td>X</td>\n",
       "      <td>12/05/2002</td>\n",
       "      <td>12348.5</td>\n",
       "    </tr>\n",
       "    <tr>\n",
       "      <th>1</th>\n",
       "      <td>B</td>\n",
       "      <td>16/02/1999</td>\n",
       "      <td>233331.2</td>\n",
       "    </tr>\n",
       "    <tr>\n",
       "      <th>2</th>\n",
       "      <td>Y</td>\n",
       "      <td>25/09/1998</td>\n",
       "      <td>22.5</td>\n",
       "    </tr>\n",
       "    <tr>\n",
       "      <th>3</th>\n",
       "      <td>D</td>\n",
       "      <td>12/02/2022</td>\n",
       "      <td>2566552.0</td>\n",
       "    </tr>\n",
       "    <tr>\n",
       "      <th>4</th>\n",
       "      <td>X</td>\n",
       "      <td>15/09/1997</td>\n",
       "      <td>23.0</td>\n",
       "    </tr>\n",
       "  </tbody>\n",
       "</table>\n",
       "</div>"
      ],
      "text/plain": [
       "  company_code date_of_sale  sale_amount\n",
       "0            X   12/05/2002      12348.5\n",
       "1            B   16/02/1999     233331.2\n",
       "2            Y   25/09/1998         22.5\n",
       "3            D   12/02/2022    2566552.0\n",
       "4            X   15/09/1997         23.0"
      ]
     },
     "execution_count": 107,
     "metadata": {},
     "output_type": "execute_result"
    }
   ],
   "source": [
    "df"
   ]
  },
  {
   "cell_type": "markdown",
   "id": "ea06243a",
   "metadata": {},
   "source": [
    "## 23.Write a Pandas program to split a string of a column of a given DataFrame into multiple columns."
   ]
  },
  {
   "cell_type": "code",
   "execution_count": 109,
   "id": "0c972aa7",
   "metadata": {},
   "outputs": [
    {
     "data": {
      "text/html": [
       "<div>\n",
       "<style scoped>\n",
       "    .dataframe tbody tr th:only-of-type {\n",
       "        vertical-align: middle;\n",
       "    }\n",
       "\n",
       "    .dataframe tbody tr th {\n",
       "        vertical-align: top;\n",
       "    }\n",
       "\n",
       "    .dataframe thead th {\n",
       "        text-align: right;\n",
       "    }\n",
       "</style>\n",
       "<table border=\"1\" class=\"dataframe\">\n",
       "  <thead>\n",
       "    <tr style=\"text-align: right;\">\n",
       "      <th></th>\n",
       "      <th>name</th>\n",
       "      <th>date_of_birth</th>\n",
       "      <th>age</th>\n",
       "    </tr>\n",
       "  </thead>\n",
       "  <tbody>\n",
       "    <tr>\n",
       "      <th>0</th>\n",
       "      <td>Alberto Franco</td>\n",
       "      <td>17/05/2002</td>\n",
       "      <td>18.5</td>\n",
       "    </tr>\n",
       "    <tr>\n",
       "      <th>1</th>\n",
       "      <td>Gino Ann Mcneil</td>\n",
       "      <td>16/02/1999</td>\n",
       "      <td>21.2</td>\n",
       "    </tr>\n",
       "    <tr>\n",
       "      <th>2</th>\n",
       "      <td>Ryan Parkes</td>\n",
       "      <td>25/09/1998</td>\n",
       "      <td>22.5</td>\n",
       "    </tr>\n",
       "    <tr>\n",
       "      <th>3</th>\n",
       "      <td>Eesha Artur Hinton</td>\n",
       "      <td>11/05/2002</td>\n",
       "      <td>22.0</td>\n",
       "    </tr>\n",
       "    <tr>\n",
       "      <th>4</th>\n",
       "      <td>Syed Wharton</td>\n",
       "      <td>15/05/1997</td>\n",
       "      <td>23.0</td>\n",
       "    </tr>\n",
       "  </tbody>\n",
       "</table>\n",
       "</div>"
      ],
      "text/plain": [
       "                 name date_of_birth   age\n",
       "0      Alberto Franco    17/05/2002  18.5\n",
       "1     Gino Ann Mcneil    16/02/1999  21.2\n",
       "2         Ryan Parkes    25/09/1998  22.5\n",
       "3  Eesha Artur Hinton    11/05/2002  22.0\n",
       "4        Syed Wharton    15/05/1997  23.0"
      ]
     },
     "execution_count": 109,
     "metadata": {},
     "output_type": "execute_result"
    }
   ],
   "source": [
    "df = pd.DataFrame({'name':['Alberto Franco','Gino Ann Mcneil','Ryan Parkes','Eesha Artur Hinton','Syed Wharton'],\n",
    "                  'date_of_birth':['17/05/2002','16/02/1999','25/09/1998','11/05/2002','15/05/1997'],\n",
    "                  'age':[18.5,21.2,22.5,22,23]})\n",
    "df"
   ]
  },
  {
   "cell_type": "code",
   "execution_count": 110,
   "id": "da8bd961",
   "metadata": {},
   "outputs": [],
   "source": [
    "df[['First','Middle','Last']] = df['name'].str.split(\" \",expand=True)"
   ]
  },
  {
   "cell_type": "code",
   "execution_count": 111,
   "id": "8d292c8c",
   "metadata": {},
   "outputs": [
    {
     "data": {
      "text/html": [
       "<div>\n",
       "<style scoped>\n",
       "    .dataframe tbody tr th:only-of-type {\n",
       "        vertical-align: middle;\n",
       "    }\n",
       "\n",
       "    .dataframe tbody tr th {\n",
       "        vertical-align: top;\n",
       "    }\n",
       "\n",
       "    .dataframe thead th {\n",
       "        text-align: right;\n",
       "    }\n",
       "</style>\n",
       "<table border=\"1\" class=\"dataframe\">\n",
       "  <thead>\n",
       "    <tr style=\"text-align: right;\">\n",
       "      <th></th>\n",
       "      <th>name</th>\n",
       "      <th>date_of_birth</th>\n",
       "      <th>age</th>\n",
       "      <th>First</th>\n",
       "      <th>Middle</th>\n",
       "      <th>Last</th>\n",
       "    </tr>\n",
       "  </thead>\n",
       "  <tbody>\n",
       "    <tr>\n",
       "      <th>0</th>\n",
       "      <td>Alberto Franco</td>\n",
       "      <td>17/05/2002</td>\n",
       "      <td>18.5</td>\n",
       "      <td>Alberto</td>\n",
       "      <td>Franco</td>\n",
       "      <td>None</td>\n",
       "    </tr>\n",
       "    <tr>\n",
       "      <th>1</th>\n",
       "      <td>Gino Ann Mcneil</td>\n",
       "      <td>16/02/1999</td>\n",
       "      <td>21.2</td>\n",
       "      <td>Gino</td>\n",
       "      <td>Ann</td>\n",
       "      <td>Mcneil</td>\n",
       "    </tr>\n",
       "    <tr>\n",
       "      <th>2</th>\n",
       "      <td>Ryan Parkes</td>\n",
       "      <td>25/09/1998</td>\n",
       "      <td>22.5</td>\n",
       "      <td>Ryan</td>\n",
       "      <td>Parkes</td>\n",
       "      <td>None</td>\n",
       "    </tr>\n",
       "    <tr>\n",
       "      <th>3</th>\n",
       "      <td>Eesha Artur Hinton</td>\n",
       "      <td>11/05/2002</td>\n",
       "      <td>22.0</td>\n",
       "      <td>Eesha</td>\n",
       "      <td>Artur</td>\n",
       "      <td>Hinton</td>\n",
       "    </tr>\n",
       "    <tr>\n",
       "      <th>4</th>\n",
       "      <td>Syed Wharton</td>\n",
       "      <td>15/05/1997</td>\n",
       "      <td>23.0</td>\n",
       "      <td>Syed</td>\n",
       "      <td>Wharton</td>\n",
       "      <td>None</td>\n",
       "    </tr>\n",
       "  </tbody>\n",
       "</table>\n",
       "</div>"
      ],
      "text/plain": [
       "                 name date_of_birth   age    First   Middle    Last\n",
       "0      Alberto Franco    17/05/2002  18.5  Alberto   Franco    None\n",
       "1     Gino Ann Mcneil    16/02/1999  21.2     Gino      Ann  Mcneil\n",
       "2         Ryan Parkes    25/09/1998  22.5     Ryan   Parkes    None\n",
       "3  Eesha Artur Hinton    11/05/2002  22.0    Eesha    Artur  Hinton\n",
       "4        Syed Wharton    15/05/1997  23.0     Syed  Wharton    None"
      ]
     },
     "execution_count": 111,
     "metadata": {},
     "output_type": "execute_result"
    }
   ],
   "source": [
    "df"
   ]
  },
  {
   "cell_type": "markdown",
   "id": "256f49df",
   "metadata": {},
   "source": [
    "## 24.Write a Pandas program to extract email from a specified column of string type of a given DataFrame."
   ]
  },
  {
   "cell_type": "markdown",
   "id": "0528a6f2",
   "metadata": {},
   "source": [
    "## 25.Write a Pandas program to extract hash attached word from twitter text from the specified column of a given dataframe."
   ]
  },
  {
   "cell_type": "markdown",
   "id": "20d7a307",
   "metadata": {},
   "source": [
    "## 26.Write a Pandas program to extract word mention someone in tweets using @ from the specified column of a given dataframe."
   ]
  },
  {
   "cell_type": "markdown",
   "id": "c70c5540",
   "metadata": {},
   "source": [
    "## 27.Write a Pandas program to extract only number from the specified column of a given dataframe."
   ]
  },
  {
   "cell_type": "code",
   "execution_count": 112,
   "id": "8c82dab8",
   "metadata": {},
   "outputs": [],
   "source": [
    "import re as re"
   ]
  },
  {
   "cell_type": "code",
   "execution_count": 113,
   "id": "41972170",
   "metadata": {},
   "outputs": [],
   "source": [
    "df = pd.DataFrame({'company_code':['c001','c0002','c0003','c0003','c0004'],\n",
    "                  'address':['7277 Survey Ave.','920 N. Bishop Ave.','9910 Golden Star St.','25 Dunbar St.','17 West Livingston Court']\n",
    "                  })"
   ]
  },
  {
   "cell_type": "code",
   "execution_count": 114,
   "id": "35cefc81",
   "metadata": {},
   "outputs": [
    {
     "data": {
      "text/html": [
       "<div>\n",
       "<style scoped>\n",
       "    .dataframe tbody tr th:only-of-type {\n",
       "        vertical-align: middle;\n",
       "    }\n",
       "\n",
       "    .dataframe tbody tr th {\n",
       "        vertical-align: top;\n",
       "    }\n",
       "\n",
       "    .dataframe thead th {\n",
       "        text-align: right;\n",
       "    }\n",
       "</style>\n",
       "<table border=\"1\" class=\"dataframe\">\n",
       "  <thead>\n",
       "    <tr style=\"text-align: right;\">\n",
       "      <th></th>\n",
       "      <th>company_code</th>\n",
       "      <th>address</th>\n",
       "    </tr>\n",
       "  </thead>\n",
       "  <tbody>\n",
       "    <tr>\n",
       "      <th>0</th>\n",
       "      <td>c001</td>\n",
       "      <td>7277 Survey Ave.</td>\n",
       "    </tr>\n",
       "    <tr>\n",
       "      <th>1</th>\n",
       "      <td>c0002</td>\n",
       "      <td>920 N. Bishop Ave.</td>\n",
       "    </tr>\n",
       "    <tr>\n",
       "      <th>2</th>\n",
       "      <td>c0003</td>\n",
       "      <td>9910 Golden Star St.</td>\n",
       "    </tr>\n",
       "    <tr>\n",
       "      <th>3</th>\n",
       "      <td>c0003</td>\n",
       "      <td>25 Dunbar St.</td>\n",
       "    </tr>\n",
       "    <tr>\n",
       "      <th>4</th>\n",
       "      <td>c0004</td>\n",
       "      <td>17 West Livingston Court</td>\n",
       "    </tr>\n",
       "  </tbody>\n",
       "</table>\n",
       "</div>"
      ],
      "text/plain": [
       "  company_code                   address\n",
       "0         c001          7277 Survey Ave.\n",
       "1        c0002        920 N. Bishop Ave.\n",
       "2        c0003      9910 Golden Star St.\n",
       "3        c0003             25 Dunbar St.\n",
       "4        c0004  17 West Livingston Court"
      ]
     },
     "execution_count": 114,
     "metadata": {},
     "output_type": "execute_result"
    }
   ],
   "source": [
    "df"
   ]
  },
  {
   "cell_type": "code",
   "execution_count": 116,
   "id": "ba32bcba",
   "metadata": {},
   "outputs": [],
   "source": [
    "def find_number(text):\n",
    "    num = re.findall(r'[0-9]+',text)\n",
    "    return \" \".join(num)\n",
    "df['number'] = df['address'].apply(lambda x: find_number(x))"
   ]
  },
  {
   "cell_type": "code",
   "execution_count": 117,
   "id": "40db591e",
   "metadata": {},
   "outputs": [
    {
     "data": {
      "text/html": [
       "<div>\n",
       "<style scoped>\n",
       "    .dataframe tbody tr th:only-of-type {\n",
       "        vertical-align: middle;\n",
       "    }\n",
       "\n",
       "    .dataframe tbody tr th {\n",
       "        vertical-align: top;\n",
       "    }\n",
       "\n",
       "    .dataframe thead th {\n",
       "        text-align: right;\n",
       "    }\n",
       "</style>\n",
       "<table border=\"1\" class=\"dataframe\">\n",
       "  <thead>\n",
       "    <tr style=\"text-align: right;\">\n",
       "      <th></th>\n",
       "      <th>company_code</th>\n",
       "      <th>address</th>\n",
       "      <th>number</th>\n",
       "    </tr>\n",
       "  </thead>\n",
       "  <tbody>\n",
       "    <tr>\n",
       "      <th>0</th>\n",
       "      <td>c001</td>\n",
       "      <td>7277 Survey Ave.</td>\n",
       "      <td>7277</td>\n",
       "    </tr>\n",
       "    <tr>\n",
       "      <th>1</th>\n",
       "      <td>c0002</td>\n",
       "      <td>920 N. Bishop Ave.</td>\n",
       "      <td>920</td>\n",
       "    </tr>\n",
       "    <tr>\n",
       "      <th>2</th>\n",
       "      <td>c0003</td>\n",
       "      <td>9910 Golden Star St.</td>\n",
       "      <td>9910</td>\n",
       "    </tr>\n",
       "    <tr>\n",
       "      <th>3</th>\n",
       "      <td>c0003</td>\n",
       "      <td>25 Dunbar St.</td>\n",
       "      <td>25</td>\n",
       "    </tr>\n",
       "    <tr>\n",
       "      <th>4</th>\n",
       "      <td>c0004</td>\n",
       "      <td>17 West Livingston Court</td>\n",
       "      <td>17</td>\n",
       "    </tr>\n",
       "  </tbody>\n",
       "</table>\n",
       "</div>"
      ],
      "text/plain": [
       "  company_code                   address number\n",
       "0         c001          7277 Survey Ave.   7277\n",
       "1        c0002        920 N. Bishop Ave.    920\n",
       "2        c0003      9910 Golden Star St.   9910\n",
       "3        c0003             25 Dunbar St.     25\n",
       "4        c0004  17 West Livingston Court     17"
      ]
     },
     "execution_count": 117,
     "metadata": {},
     "output_type": "execute_result"
    }
   ],
   "source": [
    "df"
   ]
  },
  {
   "cell_type": "markdown",
   "id": "6a5f877a",
   "metadata": {},
   "source": [
    "## 28.Write a Pandas program to extract year between 1800 to 2200 from the specified column of a given dataframe."
   ]
  },
  {
   "cell_type": "code",
   "execution_count": 118,
   "id": "3803dc83",
   "metadata": {},
   "outputs": [],
   "source": [
    "df = pd.DataFrame({'company_code':['c001','c0002','c0003','c0003','c0004'],\n",
    "                  'year':['year 1800','year 1700','year 2300','year 1900','year 2200']\n",
    "                  })"
   ]
  },
  {
   "cell_type": "code",
   "execution_count": 119,
   "id": "828223c3",
   "metadata": {},
   "outputs": [
    {
     "data": {
      "text/html": [
       "<div>\n",
       "<style scoped>\n",
       "    .dataframe tbody tr th:only-of-type {\n",
       "        vertical-align: middle;\n",
       "    }\n",
       "\n",
       "    .dataframe tbody tr th {\n",
       "        vertical-align: top;\n",
       "    }\n",
       "\n",
       "    .dataframe thead th {\n",
       "        text-align: right;\n",
       "    }\n",
       "</style>\n",
       "<table border=\"1\" class=\"dataframe\">\n",
       "  <thead>\n",
       "    <tr style=\"text-align: right;\">\n",
       "      <th></th>\n",
       "      <th>company_code</th>\n",
       "      <th>year</th>\n",
       "    </tr>\n",
       "  </thead>\n",
       "  <tbody>\n",
       "    <tr>\n",
       "      <th>0</th>\n",
       "      <td>c001</td>\n",
       "      <td>year 1800</td>\n",
       "    </tr>\n",
       "    <tr>\n",
       "      <th>1</th>\n",
       "      <td>c0002</td>\n",
       "      <td>year 1700</td>\n",
       "    </tr>\n",
       "    <tr>\n",
       "      <th>2</th>\n",
       "      <td>c0003</td>\n",
       "      <td>year 2300</td>\n",
       "    </tr>\n",
       "    <tr>\n",
       "      <th>3</th>\n",
       "      <td>c0003</td>\n",
       "      <td>year 1900</td>\n",
       "    </tr>\n",
       "    <tr>\n",
       "      <th>4</th>\n",
       "      <td>c0004</td>\n",
       "      <td>year 2200</td>\n",
       "    </tr>\n",
       "  </tbody>\n",
       "</table>\n",
       "</div>"
      ],
      "text/plain": [
       "  company_code       year\n",
       "0         c001  year 1800\n",
       "1        c0002  year 1700\n",
       "2        c0003  year 2300\n",
       "3        c0003  year 1900\n",
       "4        c0004  year 2200"
      ]
     },
     "execution_count": 119,
     "metadata": {},
     "output_type": "execute_result"
    }
   ],
   "source": [
    "df"
   ]
  },
  {
   "cell_type": "code",
   "execution_count": 120,
   "id": "dbf5152d",
   "metadata": {},
   "outputs": [],
   "source": [
    "def find_year(text):\n",
    "    result = re.findall(r'\\b18[0-9]{2}|19[0-8][0-9]|199[0-9]|2[01][0-9]{2}|2200\\b',text)\n",
    "    return result\n",
    "df['year_range'] = df['year'].apply(lambda x: find_year(x))"
   ]
  },
  {
   "cell_type": "code",
   "execution_count": 121,
   "id": "563a2411",
   "metadata": {},
   "outputs": [
    {
     "data": {
      "text/html": [
       "<div>\n",
       "<style scoped>\n",
       "    .dataframe tbody tr th:only-of-type {\n",
       "        vertical-align: middle;\n",
       "    }\n",
       "\n",
       "    .dataframe tbody tr th {\n",
       "        vertical-align: top;\n",
       "    }\n",
       "\n",
       "    .dataframe thead th {\n",
       "        text-align: right;\n",
       "    }\n",
       "</style>\n",
       "<table border=\"1\" class=\"dataframe\">\n",
       "  <thead>\n",
       "    <tr style=\"text-align: right;\">\n",
       "      <th></th>\n",
       "      <th>company_code</th>\n",
       "      <th>year</th>\n",
       "      <th>year_range</th>\n",
       "    </tr>\n",
       "  </thead>\n",
       "  <tbody>\n",
       "    <tr>\n",
       "      <th>0</th>\n",
       "      <td>c001</td>\n",
       "      <td>year 1800</td>\n",
       "      <td>[1800]</td>\n",
       "    </tr>\n",
       "    <tr>\n",
       "      <th>1</th>\n",
       "      <td>c0002</td>\n",
       "      <td>year 1700</td>\n",
       "      <td>[]</td>\n",
       "    </tr>\n",
       "    <tr>\n",
       "      <th>2</th>\n",
       "      <td>c0003</td>\n",
       "      <td>year 2300</td>\n",
       "      <td>[]</td>\n",
       "    </tr>\n",
       "    <tr>\n",
       "      <th>3</th>\n",
       "      <td>c0003</td>\n",
       "      <td>year 1900</td>\n",
       "      <td>[1900]</td>\n",
       "    </tr>\n",
       "    <tr>\n",
       "      <th>4</th>\n",
       "      <td>c0004</td>\n",
       "      <td>year 2200</td>\n",
       "      <td>[2200]</td>\n",
       "    </tr>\n",
       "  </tbody>\n",
       "</table>\n",
       "</div>"
      ],
      "text/plain": [
       "  company_code       year year_range\n",
       "0         c001  year 1800     [1800]\n",
       "1        c0002  year 1700         []\n",
       "2        c0003  year 2300         []\n",
       "3        c0003  year 1900     [1900]\n",
       "4        c0004  year 2200     [2200]"
      ]
     },
     "execution_count": 121,
     "metadata": {},
     "output_type": "execute_result"
    }
   ],
   "source": [
    "df"
   ]
  },
  {
   "cell_type": "markdown",
   "id": "e80fde39",
   "metadata": {},
   "source": [
    "## 29.Write a Pandas program to extract only phone number from the specified column of a given dataframe."
   ]
  },
  {
   "cell_type": "code",
   "execution_count": null,
   "id": "81796bca",
   "metadata": {},
   "outputs": [],
   "source": []
  },
  {
   "cell_type": "markdown",
   "id": "1d1207d3",
   "metadata": {},
   "source": [
    "## 30.Write a Pandas program to extract only non alphanumeric charactesrs from the specified column of a given dataframe."
   ]
  },
  {
   "cell_type": "code",
   "execution_count": 122,
   "id": "c36a084a",
   "metadata": {},
   "outputs": [],
   "source": [
    "df = pd.DataFrame({'company_code':['c0001#','c00@0^2','$c0003','c0003','&c0004'],\n",
    "                  'year':['year 1800','year 1700','year 2300','year 1900','year 2200']})"
   ]
  },
  {
   "cell_type": "code",
   "execution_count": 123,
   "id": "95bdc128",
   "metadata": {},
   "outputs": [
    {
     "data": {
      "text/html": [
       "<div>\n",
       "<style scoped>\n",
       "    .dataframe tbody tr th:only-of-type {\n",
       "        vertical-align: middle;\n",
       "    }\n",
       "\n",
       "    .dataframe tbody tr th {\n",
       "        vertical-align: top;\n",
       "    }\n",
       "\n",
       "    .dataframe thead th {\n",
       "        text-align: right;\n",
       "    }\n",
       "</style>\n",
       "<table border=\"1\" class=\"dataframe\">\n",
       "  <thead>\n",
       "    <tr style=\"text-align: right;\">\n",
       "      <th></th>\n",
       "      <th>company_code</th>\n",
       "      <th>year</th>\n",
       "    </tr>\n",
       "  </thead>\n",
       "  <tbody>\n",
       "    <tr>\n",
       "      <th>0</th>\n",
       "      <td>c0001#</td>\n",
       "      <td>year 1800</td>\n",
       "    </tr>\n",
       "    <tr>\n",
       "      <th>1</th>\n",
       "      <td>c00@0^2</td>\n",
       "      <td>year 1700</td>\n",
       "    </tr>\n",
       "    <tr>\n",
       "      <th>2</th>\n",
       "      <td>$c0003</td>\n",
       "      <td>year 2300</td>\n",
       "    </tr>\n",
       "    <tr>\n",
       "      <th>3</th>\n",
       "      <td>c0003</td>\n",
       "      <td>year 1900</td>\n",
       "    </tr>\n",
       "    <tr>\n",
       "      <th>4</th>\n",
       "      <td>&amp;c0004</td>\n",
       "      <td>year 2200</td>\n",
       "    </tr>\n",
       "  </tbody>\n",
       "</table>\n",
       "</div>"
      ],
      "text/plain": [
       "  company_code       year\n",
       "0       c0001#  year 1800\n",
       "1      c00@0^2  year 1700\n",
       "2       $c0003  year 2300\n",
       "3        c0003  year 1900\n",
       "4       &c0004  year 2200"
      ]
     },
     "execution_count": 123,
     "metadata": {},
     "output_type": "execute_result"
    }
   ],
   "source": [
    "df"
   ]
  },
  {
   "cell_type": "code",
   "execution_count": 125,
   "id": "29329841",
   "metadata": {},
   "outputs": [],
   "source": [
    "def find_nonalpha(text):\n",
    "    result = re.findall(\"[^A-Za-z0-9]\",text)\n",
    "    return result"
   ]
  },
  {
   "cell_type": "code",
   "execution_count": 127,
   "id": "89bccbf2",
   "metadata": {},
   "outputs": [],
   "source": [
    "df['nonalpha'] = df['company_code'].apply(lambda x: find_nonalpha(x))"
   ]
  },
  {
   "cell_type": "code",
   "execution_count": 128,
   "id": "4b950c84",
   "metadata": {},
   "outputs": [
    {
     "data": {
      "text/html": [
       "<div>\n",
       "<style scoped>\n",
       "    .dataframe tbody tr th:only-of-type {\n",
       "        vertical-align: middle;\n",
       "    }\n",
       "\n",
       "    .dataframe tbody tr th {\n",
       "        vertical-align: top;\n",
       "    }\n",
       "\n",
       "    .dataframe thead th {\n",
       "        text-align: right;\n",
       "    }\n",
       "</style>\n",
       "<table border=\"1\" class=\"dataframe\">\n",
       "  <thead>\n",
       "    <tr style=\"text-align: right;\">\n",
       "      <th></th>\n",
       "      <th>company_code</th>\n",
       "      <th>year</th>\n",
       "      <th>nonalpha</th>\n",
       "    </tr>\n",
       "  </thead>\n",
       "  <tbody>\n",
       "    <tr>\n",
       "      <th>0</th>\n",
       "      <td>c0001#</td>\n",
       "      <td>year 1800</td>\n",
       "      <td>[#]</td>\n",
       "    </tr>\n",
       "    <tr>\n",
       "      <th>1</th>\n",
       "      <td>c00@0^2</td>\n",
       "      <td>year 1700</td>\n",
       "      <td>[@, ^]</td>\n",
       "    </tr>\n",
       "    <tr>\n",
       "      <th>2</th>\n",
       "      <td>$c0003</td>\n",
       "      <td>year 2300</td>\n",
       "      <td>[$]</td>\n",
       "    </tr>\n",
       "    <tr>\n",
       "      <th>3</th>\n",
       "      <td>c0003</td>\n",
       "      <td>year 1900</td>\n",
       "      <td>[]</td>\n",
       "    </tr>\n",
       "    <tr>\n",
       "      <th>4</th>\n",
       "      <td>&amp;c0004</td>\n",
       "      <td>year 2200</td>\n",
       "      <td>[&amp;]</td>\n",
       "    </tr>\n",
       "  </tbody>\n",
       "</table>\n",
       "</div>"
      ],
      "text/plain": [
       "  company_code       year nonalpha\n",
       "0       c0001#  year 1800      [#]\n",
       "1      c00@0^2  year 1700   [@, ^]\n",
       "2       $c0003  year 2300      [$]\n",
       "3        c0003  year 1900       []\n",
       "4       &c0004  year 2200      [&]"
      ]
     },
     "execution_count": 128,
     "metadata": {},
     "output_type": "execute_result"
    }
   ],
   "source": [
    "df"
   ]
  },
  {
   "cell_type": "markdown",
   "id": "53195d14",
   "metadata": {},
   "source": [
    "## 31.Write a Pandas program to extract only punctuations from the specified column of a given dataframe."
   ]
  },
  {
   "cell_type": "code",
   "execution_count": 129,
   "id": "4d687df2",
   "metadata": {},
   "outputs": [],
   "source": [
    "df = pd.DataFrame({'company_code':['c0001#','c00@0^2','$c0003','c0003','&c0004'],\n",
    "                  'year':['year 1800','year 1700','year 2300','year 1900','year 2200']})"
   ]
  },
  {
   "cell_type": "code",
   "execution_count": 130,
   "id": "f2a4a86b",
   "metadata": {},
   "outputs": [
    {
     "data": {
      "text/html": [
       "<div>\n",
       "<style scoped>\n",
       "    .dataframe tbody tr th:only-of-type {\n",
       "        vertical-align: middle;\n",
       "    }\n",
       "\n",
       "    .dataframe tbody tr th {\n",
       "        vertical-align: top;\n",
       "    }\n",
       "\n",
       "    .dataframe thead th {\n",
       "        text-align: right;\n",
       "    }\n",
       "</style>\n",
       "<table border=\"1\" class=\"dataframe\">\n",
       "  <thead>\n",
       "    <tr style=\"text-align: right;\">\n",
       "      <th></th>\n",
       "      <th>company_code</th>\n",
       "      <th>year</th>\n",
       "    </tr>\n",
       "  </thead>\n",
       "  <tbody>\n",
       "    <tr>\n",
       "      <th>0</th>\n",
       "      <td>c0001#</td>\n",
       "      <td>year 1800</td>\n",
       "    </tr>\n",
       "    <tr>\n",
       "      <th>1</th>\n",
       "      <td>c00@0^2</td>\n",
       "      <td>year 1700</td>\n",
       "    </tr>\n",
       "    <tr>\n",
       "      <th>2</th>\n",
       "      <td>$c0003</td>\n",
       "      <td>year 2300</td>\n",
       "    </tr>\n",
       "    <tr>\n",
       "      <th>3</th>\n",
       "      <td>c0003</td>\n",
       "      <td>year 1900</td>\n",
       "    </tr>\n",
       "    <tr>\n",
       "      <th>4</th>\n",
       "      <td>&amp;c0004</td>\n",
       "      <td>year 2200</td>\n",
       "    </tr>\n",
       "  </tbody>\n",
       "</table>\n",
       "</div>"
      ],
      "text/plain": [
       "  company_code       year\n",
       "0       c0001#  year 1800\n",
       "1      c00@0^2  year 1700\n",
       "2       $c0003  year 2300\n",
       "3        c0003  year 1900\n",
       "4       &c0004  year 2200"
      ]
     },
     "execution_count": 130,
     "metadata": {},
     "output_type": "execute_result"
    }
   ],
   "source": [
    "df"
   ]
  },
  {
   "cell_type": "code",
   "execution_count": 133,
   "id": "99fb0ca7",
   "metadata": {},
   "outputs": [],
   "source": [
    "def find_punctuations(text):\n",
    "    result = re.findall(r'[!\"\\$%&\\'()*+,\\-.\\/:;=@?\\[\\\\\\]^_ ''{|}~]*',text)\n",
    "    string = \"\".join(result)\n",
    "    return list(string)\n",
    "df['nonalpha'] = df['company_code'].apply(lambda x: find_punctuations(x))"
   ]
  },
  {
   "cell_type": "code",
   "execution_count": 134,
   "id": "c9e5d3b8",
   "metadata": {},
   "outputs": [
    {
     "data": {
      "text/html": [
       "<div>\n",
       "<style scoped>\n",
       "    .dataframe tbody tr th:only-of-type {\n",
       "        vertical-align: middle;\n",
       "    }\n",
       "\n",
       "    .dataframe tbody tr th {\n",
       "        vertical-align: top;\n",
       "    }\n",
       "\n",
       "    .dataframe thead th {\n",
       "        text-align: right;\n",
       "    }\n",
       "</style>\n",
       "<table border=\"1\" class=\"dataframe\">\n",
       "  <thead>\n",
       "    <tr style=\"text-align: right;\">\n",
       "      <th></th>\n",
       "      <th>company_code</th>\n",
       "      <th>year</th>\n",
       "      <th>nonalpha</th>\n",
       "    </tr>\n",
       "  </thead>\n",
       "  <tbody>\n",
       "    <tr>\n",
       "      <th>0</th>\n",
       "      <td>c0001#</td>\n",
       "      <td>year 1800</td>\n",
       "      <td>[]</td>\n",
       "    </tr>\n",
       "    <tr>\n",
       "      <th>1</th>\n",
       "      <td>c00@0^2</td>\n",
       "      <td>year 1700</td>\n",
       "      <td>[@, ^]</td>\n",
       "    </tr>\n",
       "    <tr>\n",
       "      <th>2</th>\n",
       "      <td>$c0003</td>\n",
       "      <td>year 2300</td>\n",
       "      <td>[$]</td>\n",
       "    </tr>\n",
       "    <tr>\n",
       "      <th>3</th>\n",
       "      <td>c0003</td>\n",
       "      <td>year 1900</td>\n",
       "      <td>[]</td>\n",
       "    </tr>\n",
       "    <tr>\n",
       "      <th>4</th>\n",
       "      <td>&amp;c0004</td>\n",
       "      <td>year 2200</td>\n",
       "      <td>[&amp;]</td>\n",
       "    </tr>\n",
       "  </tbody>\n",
       "</table>\n",
       "</div>"
      ],
      "text/plain": [
       "  company_code       year nonalpha\n",
       "0       c0001#  year 1800       []\n",
       "1      c00@0^2  year 1700   [@, ^]\n",
       "2       $c0003  year 2300      [$]\n",
       "3        c0003  year 1900       []\n",
       "4       &c0004  year 2200      [&]"
      ]
     },
     "execution_count": 134,
     "metadata": {},
     "output_type": "execute_result"
    }
   ],
   "source": [
    "df"
   ]
  },
  {
   "cell_type": "markdown",
   "id": "9ed26831",
   "metadata": {},
   "source": [
    "## 32.Write a Pandas program to remove reprtitive characters from the specified column of a given dataframe."
   ]
  },
  {
   "cell_type": "code",
   "execution_count": null,
   "id": "5a93445c",
   "metadata": {},
   "outputs": [],
   "source": []
  },
  {
   "cell_type": "markdown",
   "id": "4c97b948",
   "metadata": {},
   "source": [
    "## 33.Write a Pandas program to extract numbers greater than 940 from the specified column of a given dataframe."
   ]
  },
  {
   "cell_type": "code",
   "execution_count": null,
   "id": "fa9b015f",
   "metadata": {},
   "outputs": [],
   "source": []
  },
  {
   "cell_type": "markdown",
   "id": "55826b7a",
   "metadata": {},
   "source": [
    "## 34.Write a Pandas program to extract numbers less than 100 from the specified column of a given dataframe."
   ]
  },
  {
   "cell_type": "code",
   "execution_count": null,
   "id": "736a941c",
   "metadata": {},
   "outputs": [],
   "source": []
  },
  {
   "cell_type": "markdown",
   "id": "6f1c03fb",
   "metadata": {},
   "source": [
    "## 35.Write a Pandas program to check whether two given words present in a specified column of a given dataframe."
   ]
  },
  {
   "cell_type": "code",
   "execution_count": null,
   "id": "639796ff",
   "metadata": {},
   "outputs": [],
   "source": []
  }
 ],
 "metadata": {
  "kernelspec": {
   "display_name": "Python 3 (ipykernel)",
   "language": "python",
   "name": "python3"
  },
  "language_info": {
   "codemirror_mode": {
    "name": "ipython",
    "version": 3
   },
   "file_extension": ".py",
   "mimetype": "text/x-python",
   "name": "python",
   "nbconvert_exporter": "python",
   "pygments_lexer": "ipython3",
   "version": "3.9.6"
  }
 },
 "nbformat": 4,
 "nbformat_minor": 5
}
